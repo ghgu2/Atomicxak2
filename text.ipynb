{
 "cells": [
  {
   "cell_type": "code",
   "execution_count": 13,
   "metadata": {},
   "outputs": [
    {
     "name": "stdout",
     "output_type": "stream",
     "text": [
      "Requirement already satisfied: pymilvus in c:\\users\\me\\appdata\\roaming\\python\\python312\\site-packages (2.4.1)\n",
      "Requirement already satisfied: sentence-transformers in c:\\users\\me\\appdata\\roaming\\python\\python312\\site-packages (3.0.1)\n",
      "Requirement already satisfied: nltk in c:\\users\\me\\appdata\\roaming\\python\\python312\\site-packages (3.8.1)\n",
      "Collecting FlagEmbedding\n",
      "  Using cached FlagEmbedding-1.2.10-py3-none-any.whl\n",
      "Requirement already satisfied: setuptools>=67 in c:\\python312\\lib\\site-packages (from pymilvus) (69.2.0)\n",
      "Requirement already satisfied: grpcio<=1.60.0,>=1.49.1 in c:\\python312\\lib\\site-packages (from pymilvus) (1.60.0)\n",
      "Requirement already satisfied: protobuf>=3.20.0 in c:\\python312\\lib\\site-packages (from pymilvus) (5.27.1)\n",
      "Requirement already satisfied: environs<=9.5.0 in c:\\users\\me\\appdata\\roaming\\python\\python312\\site-packages (from pymilvus) (9.5.0)\n",
      "Requirement already satisfied: ujson>=2.0.0 in c:\\python312\\lib\\site-packages (from pymilvus) (5.10.0)\n",
      "Requirement already satisfied: pandas>=1.2.4 in c:\\python312\\lib\\site-packages (from pymilvus) (2.2.2)\n",
      "Requirement already satisfied: requests in c:\\python312\\lib\\site-packages (from pymilvus) (2.31.0)\n",
      "Requirement already satisfied: minio>=7.0.0 in c:\\users\\me\\appdata\\roaming\\python\\python312\\site-packages (from pymilvus) (7.2.7)\n",
      "Requirement already satisfied: pyarrow>=12.0.0 in c:\\python312\\lib\\site-packages (from pymilvus) (16.1.0)\n",
      "Requirement already satisfied: azure-storage-blob in c:\\users\\me\\appdata\\roaming\\python\\python312\\site-packages (from pymilvus) (12.20.0)\n",
      "Requirement already satisfied: scipy in c:\\python312\\lib\\site-packages (from pymilvus) (1.13.1)\n",
      "Requirement already satisfied: milvus-model>=0.1.0 in c:\\users\\me\\appdata\\roaming\\python\\python312\\site-packages (from pymilvus[model]) (0.2.3)\n",
      "Requirement already satisfied: transformers<5.0.0,>=4.34.0 in c:\\users\\me\\appdata\\roaming\\python\\python312\\site-packages (from sentence-transformers) (4.41.2)\n",
      "Requirement already satisfied: tqdm in c:\\python312\\lib\\site-packages (from sentence-transformers) (4.66.2)\n",
      "Requirement already satisfied: torch>=1.11.0 in c:\\users\\me\\appdata\\roaming\\python\\python312\\site-packages (from sentence-transformers) (2.3.1)\n",
      "Requirement already satisfied: numpy in c:\\python312\\lib\\site-packages (from sentence-transformers) (1.26.4)\n",
      "Requirement already satisfied: scikit-learn in c:\\users\\me\\appdata\\roaming\\python\\python312\\site-packages (from sentence-transformers) (1.5.0)\n",
      "Requirement already satisfied: huggingface-hub>=0.15.1 in c:\\python312\\lib\\site-packages (from sentence-transformers) (0.23.3)\n",
      "Requirement already satisfied: Pillow in c:\\users\\me\\appdata\\roaming\\python\\python312\\site-packages (from sentence-transformers) (10.3.0)\n",
      "Requirement already satisfied: click in c:\\python312\\lib\\site-packages (from nltk) (8.1.7)\n",
      "Requirement already satisfied: joblib in c:\\users\\me\\appdata\\roaming\\python\\python312\\site-packages (from nltk) (1.4.2)\n",
      "Requirement already satisfied: regex>=2021.8.3 in c:\\python312\\lib\\site-packages (from nltk) (2024.5.15)\n",
      "Collecting datasets (from FlagEmbedding)\n",
      "  Using cached datasets-2.20.0-py3-none-any.whl.metadata (19 kB)\n",
      "Collecting accelerate>=0.20.1 (from FlagEmbedding)\n",
      "  Using cached accelerate-0.31.0-py3-none-any.whl.metadata (19 kB)\n",
      "Requirement already satisfied: packaging>=20.0 in c:\\python312\\lib\\site-packages (from accelerate>=0.20.1->FlagEmbedding) (23.2)\n",
      "Requirement already satisfied: psutil in c:\\users\\me\\appdata\\roaming\\python\\python312\\site-packages (from accelerate>=0.20.1->FlagEmbedding) (5.9.8)\n",
      "Requirement already satisfied: pyyaml in c:\\python312\\lib\\site-packages (from accelerate>=0.20.1->FlagEmbedding) (6.0.1)\n",
      "Requirement already satisfied: safetensors>=0.3.1 in c:\\python312\\lib\\site-packages (from accelerate>=0.20.1->FlagEmbedding) (0.4.3)\n",
      "Requirement already satisfied: marshmallow>=3.0.0 in c:\\python312\\lib\\site-packages (from environs<=9.5.0->pymilvus) (3.20.1)\n",
      "Requirement already satisfied: python-dotenv in c:\\python312\\lib\\site-packages (from environs<=9.5.0->pymilvus) (1.0.1)\n",
      "Requirement already satisfied: filelock in c:\\users\\me\\appdata\\roaming\\python\\python312\\site-packages (from huggingface-hub>=0.15.1->sentence-transformers) (3.13.1)\n",
      "Requirement already satisfied: fsspec>=2023.5.0 in c:\\python312\\lib\\site-packages (from huggingface-hub>=0.15.1->sentence-transformers) (2024.6.0)\n",
      "Requirement already satisfied: typing-extensions>=3.7.4.3 in c:\\python312\\lib\\site-packages (from huggingface-hub>=0.15.1->sentence-transformers) (4.10.0)\n",
      "Requirement already satisfied: onnxruntime in c:\\users\\me\\appdata\\roaming\\python\\python312\\site-packages (from milvus-model>=0.1.0->pymilvus[model]) (1.18.0)\n",
      "Requirement already satisfied: certifi in c:\\python312\\lib\\site-packages (from minio>=7.0.0->pymilvus) (2023.7.22)\n",
      "Requirement already satisfied: urllib3 in c:\\python312\\lib\\site-packages (from minio>=7.0.0->pymilvus) (2.0.7)\n",
      "Requirement already satisfied: argon2-cffi in c:\\users\\me\\appdata\\roaming\\python\\python312\\site-packages (from minio>=7.0.0->pymilvus) (23.1.0)\n",
      "Requirement already satisfied: pycryptodome in c:\\python312\\lib\\site-packages (from minio>=7.0.0->pymilvus) (3.20.0)\n",
      "Requirement already satisfied: python-dateutil>=2.8.2 in c:\\users\\me\\appdata\\roaming\\python\\python312\\site-packages (from pandas>=1.2.4->pymilvus) (2.9.0.post0)\n",
      "Requirement already satisfied: pytz>=2020.1 in c:\\python312\\lib\\site-packages (from pandas>=1.2.4->pymilvus) (2024.1)\n",
      "Requirement already satisfied: tzdata>=2022.7 in c:\\python312\\lib\\site-packages (from pandas>=1.2.4->pymilvus) (2024.1)\n",
      "Requirement already satisfied: sympy in c:\\python312\\lib\\site-packages (from torch>=1.11.0->sentence-transformers) (1.12.1)\n",
      "Requirement already satisfied: networkx in c:\\users\\me\\appdata\\roaming\\python\\python312\\site-packages (from torch>=1.11.0->sentence-transformers) (3.3)\n",
      "Requirement already satisfied: jinja2 in c:\\users\\me\\appdata\\roaming\\python\\python312\\site-packages (from torch>=1.11.0->sentence-transformers) (3.1.4)\n",
      "Requirement already satisfied: mkl<=2021.4.0,>=2021.1.1 in c:\\users\\me\\appdata\\roaming\\python\\python312\\site-packages (from torch>=1.11.0->sentence-transformers) (2021.4.0)\n",
      "Requirement already satisfied: colorama in c:\\python312\\lib\\site-packages (from tqdm->sentence-transformers) (0.4.6)\n",
      "Requirement already satisfied: tokenizers<0.20,>=0.19 in c:\\users\\me\\appdata\\roaming\\python\\python312\\site-packages (from transformers<5.0.0,>=4.34.0->sentence-transformers) (0.19.1)\n",
      "Requirement already satisfied: azure-core>=1.28.0 in c:\\users\\me\\appdata\\roaming\\python\\python312\\site-packages (from azure-storage-blob->pymilvus) (1.30.2)\n",
      "Requirement already satisfied: cryptography>=2.1.4 in c:\\users\\me\\appdata\\roaming\\python\\python312\\site-packages (from azure-storage-blob->pymilvus) (42.0.8)\n",
      "Requirement already satisfied: isodate>=0.6.1 in c:\\python312\\lib\\site-packages (from azure-storage-blob->pymilvus) (0.6.1)\n",
      "Collecting pyarrow-hotfix (from datasets->FlagEmbedding)\n",
      "  Using cached pyarrow_hotfix-0.6-py3-none-any.whl.metadata (3.6 kB)\n",
      "Collecting dill<0.3.9,>=0.3.0 (from datasets->FlagEmbedding)\n",
      "  Using cached dill-0.3.8-py3-none-any.whl.metadata (10 kB)\n",
      "Collecting requests (from pymilvus)\n",
      "  Using cached requests-2.32.3-py3-none-any.whl.metadata (4.6 kB)\n",
      "Collecting tqdm (from sentence-transformers)\n",
      "  Using cached tqdm-4.66.4-py3-none-any.whl.metadata (57 kB)\n",
      "Requirement already satisfied: xxhash in c:\\python312\\lib\\site-packages (from datasets->FlagEmbedding) (3.4.1)\n",
      "Collecting multiprocess (from datasets->FlagEmbedding)\n",
      "  Using cached multiprocess-0.70.16-py312-none-any.whl.metadata (7.2 kB)\n",
      "Collecting fsspec>=2023.5.0 (from huggingface-hub>=0.15.1->sentence-transformers)\n",
      "  Using cached fsspec-2024.5.0-py3-none-any.whl.metadata (11 kB)\n",
      "Collecting aiohttp (from datasets->FlagEmbedding)\n",
      "  Using cached aiohttp-3.9.5-cp312-cp312-win_amd64.whl.metadata (7.7 kB)\n",
      "Requirement already satisfied: charset-normalizer<4,>=2 in c:\\python312\\lib\\site-packages (from requests->pymilvus) (3.3.2)\n",
      "Requirement already satisfied: idna<4,>=2.5 in c:\\python312\\lib\\site-packages (from requests->pymilvus) (3.4)\n",
      "Requirement already satisfied: threadpoolctl>=3.1.0 in c:\\users\\me\\appdata\\roaming\\python\\python312\\site-packages (from scikit-learn->sentence-transformers) (3.5.0)\n",
      "Requirement already satisfied: six>=1.11.0 in c:\\users\\me\\appdata\\roaming\\python\\python312\\site-packages (from azure-core>=1.28.0->azure-storage-blob->pymilvus) (1.16.0)\n",
      "Requirement already satisfied: cffi>=1.12 in c:\\python312\\lib\\site-packages (from cryptography>=2.1.4->azure-storage-blob->pymilvus) (1.16.0)\n",
      "Collecting aiosignal>=1.1.2 (from aiohttp->datasets->FlagEmbedding)\n",
      "  Using cached aiosignal-1.3.1-py3-none-any.whl.metadata (4.0 kB)\n",
      "Requirement already satisfied: attrs>=17.3.0 in c:\\users\\me\\appdata\\roaming\\python\\python312\\site-packages (from aiohttp->datasets->FlagEmbedding) (23.2.0)\n",
      "Collecting frozenlist>=1.1.1 (from aiohttp->datasets->FlagEmbedding)\n",
      "  Using cached frozenlist-1.4.1-cp312-cp312-win_amd64.whl.metadata (12 kB)\n",
      "Collecting multidict<7.0,>=4.5 (from aiohttp->datasets->FlagEmbedding)\n",
      "  Using cached multidict-6.0.5-cp312-cp312-win_amd64.whl.metadata (4.3 kB)\n",
      "Collecting yarl<2.0,>=1.0 (from aiohttp->datasets->FlagEmbedding)\n",
      "  Using cached yarl-1.9.4-cp312-cp312-win_amd64.whl.metadata (32 kB)\n",
      "Requirement already satisfied: intel-openmp==2021.* in c:\\users\\me\\appdata\\roaming\\python\\python312\\site-packages (from mkl<=2021.4.0,>=2021.1.1->torch>=1.11.0->sentence-transformers) (2021.4.0)\n",
      "Requirement already satisfied: tbb==2021.* in c:\\python312\\lib\\site-packages (from mkl<=2021.4.0,>=2021.1.1->torch>=1.11.0->sentence-transformers) (2021.12.0)\n",
      "Requirement already satisfied: argon2-cffi-bindings in c:\\users\\me\\appdata\\roaming\\python\\python312\\site-packages (from argon2-cffi->minio>=7.0.0->pymilvus) (21.2.0)\n",
      "Requirement already satisfied: MarkupSafe>=2.0 in c:\\users\\me\\appdata\\roaming\\python\\python312\\site-packages (from jinja2->torch>=1.11.0->sentence-transformers) (2.1.5)\n",
      "Requirement already satisfied: coloredlogs in c:\\users\\me\\appdata\\roaming\\python\\python312\\site-packages (from onnxruntime->milvus-model>=0.1.0->pymilvus[model]) (15.0.1)\n",
      "Requirement already satisfied: flatbuffers in c:\\python312\\lib\\site-packages (from onnxruntime->milvus-model>=0.1.0->pymilvus[model]) (24.3.7)\n",
      "Requirement already satisfied: mpmath<1.4.0,>=1.1.0 in c:\\python312\\lib\\site-packages (from sympy->torch>=1.11.0->sentence-transformers) (1.3.0)\n",
      "Requirement already satisfied: pycparser in c:\\python312\\lib\\site-packages (from cffi>=1.12->cryptography>=2.1.4->azure-storage-blob->pymilvus) (2.22)\n",
      "Requirement already satisfied: humanfriendly>=9.1 in c:\\python312\\lib\\site-packages (from coloredlogs->onnxruntime->milvus-model>=0.1.0->pymilvus[model]) (10.0)\n",
      "Requirement already satisfied: pyreadline3 in c:\\python312\\lib\\site-packages (from humanfriendly>=9.1->coloredlogs->onnxruntime->milvus-model>=0.1.0->pymilvus[model]) (3.4.1)\n",
      "Using cached accelerate-0.31.0-py3-none-any.whl (309 kB)\n",
      "Using cached datasets-2.20.0-py3-none-any.whl (547 kB)\n",
      "Using cached requests-2.32.3-py3-none-any.whl (64 kB)\n",
      "Using cached tqdm-4.66.4-py3-none-any.whl (78 kB)\n",
      "Using cached dill-0.3.8-py3-none-any.whl (116 kB)\n",
      "Using cached fsspec-2024.5.0-py3-none-any.whl (316 kB)\n",
      "Using cached aiohttp-3.9.5-cp312-cp312-win_amd64.whl (369 kB)\n",
      "Using cached multiprocess-0.70.16-py312-none-any.whl (146 kB)\n",
      "Using cached pyarrow_hotfix-0.6-py3-none-any.whl (7.9 kB)\n",
      "Using cached aiosignal-1.3.1-py3-none-any.whl (7.6 kB)\n",
      "Using cached frozenlist-1.4.1-cp312-cp312-win_amd64.whl (50 kB)\n",
      "Using cached multidict-6.0.5-cp312-cp312-win_amd64.whl (27 kB)\n",
      "Using cached yarl-1.9.4-cp312-cp312-win_amd64.whl (76 kB)\n",
      "Installing collected packages: tqdm, requests, pyarrow-hotfix, multidict, fsspec, frozenlist, dill, yarl, multiprocess, aiosignal, aiohttp, accelerate, datasets, FlagEmbedding\n",
      "Successfully installed FlagEmbedding-1.2.10 accelerate-0.31.0 aiohttp-3.9.5 aiosignal-1.3.1 datasets-2.20.0 dill-0.3.8 frozenlist-1.4.1 fsspec-2024.5.0 multidict-6.0.5 multiprocess-0.70.16 pyarrow-hotfix-0.6 requests-2.32.3 tqdm-4.66.4 yarl-1.9.4\n",
      "Note: you may need to restart the kernel to use updated packages.\n"
     ]
    },
    {
     "name": "stderr",
     "output_type": "stream",
     "text": [
      "\n",
      "[notice] A new release of pip is available: 23.3.1 -> 24.0\n",
      "[notice] To update, run: python.exe -m pip install --upgrade pip\n"
     ]
    },
    {
     "name": "stdout",
     "output_type": "stream",
     "text": [
      "Requirement already satisfied: jupyter in c:\\users\\me\\appdata\\roaming\\python\\python312\\site-packages (1.0.0)\n",
      "Requirement already satisfied: ipywidgets in c:\\users\\me\\appdata\\roaming\\python\\python312\\site-packages (8.1.3)\n",
      "Requirement already satisfied: notebook in c:\\users\\me\\appdata\\roaming\\python\\python312\\site-packages (from jupyter) (7.2.1)\n",
      "Requirement already satisfied: qtconsole in c:\\users\\me\\appdata\\roaming\\python\\python312\\site-packages (from jupyter) (5.5.2)\n",
      "Requirement already satisfied: jupyter-console in c:\\users\\me\\appdata\\roaming\\python\\python312\\site-packages (from jupyter) (6.6.3)\n",
      "Requirement already satisfied: nbconvert in c:\\users\\me\\appdata\\roaming\\python\\python312\\site-packages (from jupyter) (7.16.4)\n",
      "Requirement already satisfied: ipykernel in c:\\users\\me\\appdata\\roaming\\python\\python312\\site-packages (from jupyter) (6.29.4)\n",
      "Requirement already satisfied: comm>=0.1.3 in c:\\users\\me\\appdata\\roaming\\python\\python312\\site-packages (from ipywidgets) (0.2.2)\n",
      "Requirement already satisfied: ipython>=6.1.0 in c:\\users\\me\\appdata\\roaming\\python\\python312\\site-packages (from ipywidgets) (8.25.0)\n",
      "Requirement already satisfied: traitlets>=4.3.1 in c:\\users\\me\\appdata\\roaming\\python\\python312\\site-packages (from ipywidgets) (5.14.3)\n",
      "Requirement already satisfied: widgetsnbextension~=4.0.11 in c:\\users\\me\\appdata\\roaming\\python\\python312\\site-packages (from ipywidgets) (4.0.11)\n",
      "Requirement already satisfied: jupyterlab-widgets~=3.0.11 in c:\\users\\me\\appdata\\roaming\\python\\python312\\site-packages (from ipywidgets) (3.0.11)\n",
      "Requirement already satisfied: decorator in c:\\users\\me\\appdata\\roaming\\python\\python312\\site-packages (from ipython>=6.1.0->ipywidgets) (5.1.1)\n",
      "Requirement already satisfied: jedi>=0.16 in c:\\users\\me\\appdata\\roaming\\python\\python312\\site-packages (from ipython>=6.1.0->ipywidgets) (0.19.1)\n",
      "Requirement already satisfied: matplotlib-inline in c:\\users\\me\\appdata\\roaming\\python\\python312\\site-packages (from ipython>=6.1.0->ipywidgets) (0.1.7)\n",
      "Requirement already satisfied: prompt-toolkit<3.1.0,>=3.0.41 in c:\\users\\me\\appdata\\roaming\\python\\python312\\site-packages (from ipython>=6.1.0->ipywidgets) (3.0.47)\n",
      "Requirement already satisfied: pygments>=2.4.0 in c:\\users\\me\\appdata\\roaming\\python\\python312\\site-packages (from ipython>=6.1.0->ipywidgets) (2.18.0)\n",
      "Requirement already satisfied: stack-data in c:\\users\\me\\appdata\\roaming\\python\\python312\\site-packages (from ipython>=6.1.0->ipywidgets) (0.6.3)\n",
      "Requirement already satisfied: colorama in c:\\python312\\lib\\site-packages (from ipython>=6.1.0->ipywidgets) (0.4.6)\n",
      "Requirement already satisfied: debugpy>=1.6.5 in c:\\users\\me\\appdata\\roaming\\python\\python312\\site-packages (from ipykernel->jupyter) (1.8.1)\n",
      "Requirement already satisfied: jupyter-client>=6.1.12 in c:\\users\\me\\appdata\\roaming\\python\\python312\\site-packages (from ipykernel->jupyter) (8.6.2)\n",
      "Requirement already satisfied: jupyter-core!=5.0.*,>=4.12 in c:\\users\\me\\appdata\\roaming\\python\\python312\\site-packages (from ipykernel->jupyter) (5.7.2)\n",
      "Requirement already satisfied: nest-asyncio in c:\\users\\me\\appdata\\roaming\\python\\python312\\site-packages (from ipykernel->jupyter) (1.6.0)\n",
      "Requirement already satisfied: packaging in c:\\python312\\lib\\site-packages (from ipykernel->jupyter) (23.2)\n",
      "Requirement already satisfied: psutil in c:\\users\\me\\appdata\\roaming\\python\\python312\\site-packages (from ipykernel->jupyter) (5.9.8)\n",
      "Requirement already satisfied: pyzmq>=24 in c:\\users\\me\\appdata\\roaming\\python\\python312\\site-packages (from ipykernel->jupyter) (26.0.3)\n",
      "Requirement already satisfied: tornado>=6.1 in c:\\users\\me\\appdata\\roaming\\python\\python312\\site-packages (from ipykernel->jupyter) (6.4.1)\n",
      "Requirement already satisfied: beautifulsoup4 in c:\\users\\me\\appdata\\roaming\\python\\python312\\site-packages (from nbconvert->jupyter) (4.12.3)\n",
      "Requirement already satisfied: bleach!=5.0.0 in c:\\users\\me\\appdata\\roaming\\python\\python312\\site-packages (from nbconvert->jupyter) (6.1.0)\n",
      "Requirement already satisfied: defusedxml in c:\\users\\me\\appdata\\roaming\\python\\python312\\site-packages (from nbconvert->jupyter) (0.7.1)\n",
      "Requirement already satisfied: jinja2>=3.0 in c:\\users\\me\\appdata\\roaming\\python\\python312\\site-packages (from nbconvert->jupyter) (3.1.4)\n",
      "Requirement already satisfied: jupyterlab-pygments in c:\\users\\me\\appdata\\roaming\\python\\python312\\site-packages (from nbconvert->jupyter) (0.3.0)\n",
      "Requirement already satisfied: markupsafe>=2.0 in c:\\users\\me\\appdata\\roaming\\python\\python312\\site-packages (from nbconvert->jupyter) (2.1.5)\n",
      "Requirement already satisfied: mistune<4,>=2.0.3 in c:\\users\\me\\appdata\\roaming\\python\\python312\\site-packages (from nbconvert->jupyter) (3.0.2)\n",
      "Requirement already satisfied: nbclient>=0.5.0 in c:\\users\\me\\appdata\\roaming\\python\\python312\\site-packages (from nbconvert->jupyter) (0.10.0)\n",
      "Requirement already satisfied: nbformat>=5.7 in c:\\users\\me\\appdata\\roaming\\python\\python312\\site-packages (from nbconvert->jupyter) (5.10.4)\n",
      "Requirement already satisfied: pandocfilters>=1.4.1 in c:\\users\\me\\appdata\\roaming\\python\\python312\\site-packages (from nbconvert->jupyter) (1.5.1)\n",
      "Requirement already satisfied: tinycss2 in c:\\users\\me\\appdata\\roaming\\python\\python312\\site-packages (from nbconvert->jupyter) (1.3.0)\n",
      "Requirement already satisfied: jupyter-server<3,>=2.4.0 in c:\\users\\me\\appdata\\roaming\\python\\python312\\site-packages (from notebook->jupyter) (2.14.1)\n",
      "Requirement already satisfied: jupyterlab-server<3,>=2.27.1 in c:\\users\\me\\appdata\\roaming\\python\\python312\\site-packages (from notebook->jupyter) (2.27.2)\n",
      "Requirement already satisfied: jupyterlab<4.3,>=4.2.0 in c:\\users\\me\\appdata\\roaming\\python\\python312\\site-packages (from notebook->jupyter) (4.2.2)\n",
      "Requirement already satisfied: notebook-shim<0.3,>=0.2 in c:\\users\\me\\appdata\\roaming\\python\\python312\\site-packages (from notebook->jupyter) (0.2.4)\n",
      "Requirement already satisfied: qtpy>=2.4.0 in c:\\users\\me\\appdata\\roaming\\python\\python312\\site-packages (from qtconsole->jupyter) (2.4.1)\n",
      "Requirement already satisfied: six>=1.9.0 in c:\\users\\me\\appdata\\roaming\\python\\python312\\site-packages (from bleach!=5.0.0->nbconvert->jupyter) (1.16.0)\n",
      "Requirement already satisfied: webencodings in c:\\users\\me\\appdata\\roaming\\python\\python312\\site-packages (from bleach!=5.0.0->nbconvert->jupyter) (0.5.1)\n",
      "Requirement already satisfied: parso<0.9.0,>=0.8.3 in c:\\users\\me\\appdata\\roaming\\python\\python312\\site-packages (from jedi>=0.16->ipython>=6.1.0->ipywidgets) (0.8.4)\n",
      "Requirement already satisfied: python-dateutil>=2.8.2 in c:\\users\\me\\appdata\\roaming\\python\\python312\\site-packages (from jupyter-client>=6.1.12->ipykernel->jupyter) (2.9.0.post0)\n",
      "Requirement already satisfied: platformdirs>=2.5 in c:\\users\\me\\appdata\\roaming\\python\\python312\\site-packages (from jupyter-core!=5.0.*,>=4.12->ipykernel->jupyter) (3.11.0)\n",
      "Requirement already satisfied: pywin32>=300 in c:\\users\\me\\appdata\\roaming\\python\\python312\\site-packages (from jupyter-core!=5.0.*,>=4.12->ipykernel->jupyter) (306)\n",
      "Requirement already satisfied: anyio>=3.1.0 in c:\\python312\\lib\\site-packages (from jupyter-server<3,>=2.4.0->notebook->jupyter) (4.0.0)\n",
      "Requirement already satisfied: argon2-cffi>=21.1 in c:\\users\\me\\appdata\\roaming\\python\\python312\\site-packages (from jupyter-server<3,>=2.4.0->notebook->jupyter) (23.1.0)\n",
      "Requirement already satisfied: jupyter-events>=0.9.0 in c:\\users\\me\\appdata\\roaming\\python\\python312\\site-packages (from jupyter-server<3,>=2.4.0->notebook->jupyter) (0.10.0)\n",
      "Requirement already satisfied: jupyter-server-terminals>=0.4.4 in c:\\users\\me\\appdata\\roaming\\python\\python312\\site-packages (from jupyter-server<3,>=2.4.0->notebook->jupyter) (0.5.3)\n",
      "Requirement already satisfied: overrides>=5.0 in c:\\users\\me\\appdata\\roaming\\python\\python312\\site-packages (from jupyter-server<3,>=2.4.0->notebook->jupyter) (7.7.0)\n",
      "Requirement already satisfied: prometheus-client>=0.9 in c:\\users\\me\\appdata\\roaming\\python\\python312\\site-packages (from jupyter-server<3,>=2.4.0->notebook->jupyter) (0.20.0)\n",
      "Requirement already satisfied: pywinpty>=2.0.1 in c:\\users\\me\\appdata\\roaming\\python\\python312\\site-packages (from jupyter-server<3,>=2.4.0->notebook->jupyter) (2.0.13)\n",
      "Requirement already satisfied: send2trash>=1.8.2 in c:\\users\\me\\appdata\\roaming\\python\\python312\\site-packages (from jupyter-server<3,>=2.4.0->notebook->jupyter) (1.8.3)\n",
      "Requirement already satisfied: terminado>=0.8.3 in c:\\users\\me\\appdata\\roaming\\python\\python312\\site-packages (from jupyter-server<3,>=2.4.0->notebook->jupyter) (0.18.1)\n",
      "Requirement already satisfied: websocket-client>=1.7 in c:\\users\\me\\appdata\\roaming\\python\\python312\\site-packages (from jupyter-server<3,>=2.4.0->notebook->jupyter) (1.8.0)\n",
      "Requirement already satisfied: async-lru>=1.0.0 in c:\\users\\me\\appdata\\roaming\\python\\python312\\site-packages (from jupyterlab<4.3,>=4.2.0->notebook->jupyter) (2.0.4)\n",
      "Requirement already satisfied: httpx>=0.25.0 in c:\\users\\me\\appdata\\roaming\\python\\python312\\site-packages (from jupyterlab<4.3,>=4.2.0->notebook->jupyter) (0.27.0)\n",
      "Requirement already satisfied: jupyter-lsp>=2.0.0 in c:\\users\\me\\appdata\\roaming\\python\\python312\\site-packages (from jupyterlab<4.3,>=4.2.0->notebook->jupyter) (2.2.5)\n",
      "Requirement already satisfied: setuptools>=40.1.0 in c:\\python312\\lib\\site-packages (from jupyterlab<4.3,>=4.2.0->notebook->jupyter) (69.2.0)\n",
      "Requirement already satisfied: babel>=2.10 in c:\\users\\me\\appdata\\roaming\\python\\python312\\site-packages (from jupyterlab-server<3,>=2.27.1->notebook->jupyter) (2.15.0)\n",
      "Requirement already satisfied: json5>=0.9.0 in c:\\users\\me\\appdata\\roaming\\python\\python312\\site-packages (from jupyterlab-server<3,>=2.27.1->notebook->jupyter) (0.9.25)\n",
      "Requirement already satisfied: jsonschema>=4.18.0 in c:\\users\\me\\appdata\\roaming\\python\\python312\\site-packages (from jupyterlab-server<3,>=2.27.1->notebook->jupyter) (4.22.0)\n",
      "Requirement already satisfied: requests>=2.31 in c:\\users\\me\\appdata\\roaming\\python\\python312\\site-packages (from jupyterlab-server<3,>=2.27.1->notebook->jupyter) (2.32.3)\n",
      "Requirement already satisfied: fastjsonschema>=2.15 in c:\\users\\me\\appdata\\roaming\\python\\python312\\site-packages (from nbformat>=5.7->nbconvert->jupyter) (2.19.1)\n",
      "Requirement already satisfied: wcwidth in c:\\users\\me\\appdata\\roaming\\python\\python312\\site-packages (from prompt-toolkit<3.1.0,>=3.0.41->ipython>=6.1.0->ipywidgets) (0.2.13)\n",
      "Requirement already satisfied: soupsieve>1.2 in c:\\users\\me\\appdata\\roaming\\python\\python312\\site-packages (from beautifulsoup4->nbconvert->jupyter) (2.5)\n",
      "Requirement already satisfied: executing>=1.2.0 in c:\\users\\me\\appdata\\roaming\\python\\python312\\site-packages (from stack-data->ipython>=6.1.0->ipywidgets) (2.0.1)\n",
      "Requirement already satisfied: asttokens>=2.1.0 in c:\\users\\me\\appdata\\roaming\\python\\python312\\site-packages (from stack-data->ipython>=6.1.0->ipywidgets) (2.4.1)\n",
      "Requirement already satisfied: pure-eval in c:\\users\\me\\appdata\\roaming\\python\\python312\\site-packages (from stack-data->ipython>=6.1.0->ipywidgets) (0.2.2)\n",
      "Requirement already satisfied: idna>=2.8 in c:\\python312\\lib\\site-packages (from anyio>=3.1.0->jupyter-server<3,>=2.4.0->notebook->jupyter) (3.4)\n",
      "Requirement already satisfied: sniffio>=1.1 in c:\\python312\\lib\\site-packages (from anyio>=3.1.0->jupyter-server<3,>=2.4.0->notebook->jupyter) (1.3.0)\n",
      "Requirement already satisfied: argon2-cffi-bindings in c:\\users\\me\\appdata\\roaming\\python\\python312\\site-packages (from argon2-cffi>=21.1->jupyter-server<3,>=2.4.0->notebook->jupyter) (21.2.0)\n",
      "Requirement already satisfied: certifi in c:\\python312\\lib\\site-packages (from httpx>=0.25.0->jupyterlab<4.3,>=4.2.0->notebook->jupyter) (2023.7.22)\n",
      "Requirement already satisfied: httpcore==1.* in c:\\users\\me\\appdata\\roaming\\python\\python312\\site-packages (from httpx>=0.25.0->jupyterlab<4.3,>=4.2.0->notebook->jupyter) (1.0.5)\n",
      "Requirement already satisfied: h11<0.15,>=0.13 in c:\\python312\\lib\\site-packages (from httpcore==1.*->httpx>=0.25.0->jupyterlab<4.3,>=4.2.0->notebook->jupyter) (0.14.0)\n",
      "Requirement already satisfied: attrs>=22.2.0 in c:\\users\\me\\appdata\\roaming\\python\\python312\\site-packages (from jsonschema>=4.18.0->jupyterlab-server<3,>=2.27.1->notebook->jupyter) (23.2.0)\n",
      "Requirement already satisfied: jsonschema-specifications>=2023.03.6 in c:\\users\\me\\appdata\\roaming\\python\\python312\\site-packages (from jsonschema>=4.18.0->jupyterlab-server<3,>=2.27.1->notebook->jupyter) (2023.12.1)\n",
      "Requirement already satisfied: referencing>=0.28.4 in c:\\users\\me\\appdata\\roaming\\python\\python312\\site-packages (from jsonschema>=4.18.0->jupyterlab-server<3,>=2.27.1->notebook->jupyter) (0.35.1)\n",
      "Requirement already satisfied: rpds-py>=0.7.1 in c:\\users\\me\\appdata\\roaming\\python\\python312\\site-packages (from jsonschema>=4.18.0->jupyterlab-server<3,>=2.27.1->notebook->jupyter) (0.18.1)\n",
      "Requirement already satisfied: python-json-logger>=2.0.4 in c:\\users\\me\\appdata\\roaming\\python\\python312\\site-packages (from jupyter-events>=0.9.0->jupyter-server<3,>=2.4.0->notebook->jupyter) (2.0.7)\n",
      "Requirement already satisfied: pyyaml>=5.3 in c:\\python312\\lib\\site-packages (from jupyter-events>=0.9.0->jupyter-server<3,>=2.4.0->notebook->jupyter) (6.0.1)\n",
      "Requirement already satisfied: rfc3339-validator in c:\\users\\me\\appdata\\roaming\\python\\python312\\site-packages (from jupyter-events>=0.9.0->jupyter-server<3,>=2.4.0->notebook->jupyter) (0.1.4)\n",
      "Requirement already satisfied: rfc3986-validator>=0.1.1 in c:\\users\\me\\appdata\\roaming\\python\\python312\\site-packages (from jupyter-events>=0.9.0->jupyter-server<3,>=2.4.0->notebook->jupyter) (0.1.1)\n",
      "Requirement already satisfied: charset-normalizer<4,>=2 in c:\\python312\\lib\\site-packages (from requests>=2.31->jupyterlab-server<3,>=2.27.1->notebook->jupyter) (3.3.2)\n",
      "Requirement already satisfied: urllib3<3,>=1.21.1 in c:\\python312\\lib\\site-packages (from requests>=2.31->jupyterlab-server<3,>=2.27.1->notebook->jupyter) (2.0.7)\n",
      "Requirement already satisfied: fqdn in c:\\users\\me\\appdata\\roaming\\python\\python312\\site-packages (from jsonschema[format-nongpl]>=4.18.0->jupyter-events>=0.9.0->jupyter-server<3,>=2.4.0->notebook->jupyter) (1.5.1)\n",
      "Requirement already satisfied: isoduration in c:\\users\\me\\appdata\\roaming\\python\\python312\\site-packages (from jsonschema[format-nongpl]>=4.18.0->jupyter-events>=0.9.0->jupyter-server<3,>=2.4.0->notebook->jupyter) (20.11.0)\n",
      "Requirement already satisfied: jsonpointer>1.13 in c:\\users\\me\\appdata\\roaming\\python\\python312\\site-packages (from jsonschema[format-nongpl]>=4.18.0->jupyter-events>=0.9.0->jupyter-server<3,>=2.4.0->notebook->jupyter) (3.0.0)\n",
      "Requirement already satisfied: uri-template in c:\\users\\me\\appdata\\roaming\\python\\python312\\site-packages (from jsonschema[format-nongpl]>=4.18.0->jupyter-events>=0.9.0->jupyter-server<3,>=2.4.0->notebook->jupyter) (1.3.0)\n",
      "Requirement already satisfied: webcolors>=1.11 in c:\\users\\me\\appdata\\roaming\\python\\python312\\site-packages (from jsonschema[format-nongpl]>=4.18.0->jupyter-events>=0.9.0->jupyter-server<3,>=2.4.0->notebook->jupyter) (24.6.0)\n",
      "Requirement already satisfied: cffi>=1.0.1 in c:\\python312\\lib\\site-packages (from argon2-cffi-bindings->argon2-cffi>=21.1->jupyter-server<3,>=2.4.0->notebook->jupyter) (1.16.0)\n",
      "Requirement already satisfied: pycparser in c:\\python312\\lib\\site-packages (from cffi>=1.0.1->argon2-cffi-bindings->argon2-cffi>=21.1->jupyter-server<3,>=2.4.0->notebook->jupyter) (2.22)\n",
      "Requirement already satisfied: arrow>=0.15.0 in c:\\users\\me\\appdata\\roaming\\python\\python312\\site-packages (from isoduration->jsonschema[format-nongpl]>=4.18.0->jupyter-events>=0.9.0->jupyter-server<3,>=2.4.0->notebook->jupyter) (1.3.0)\n",
      "Requirement already satisfied: types-python-dateutil>=2.8.10 in c:\\users\\me\\appdata\\roaming\\python\\python312\\site-packages (from arrow>=0.15.0->isoduration->jsonschema[format-nongpl]>=4.18.0->jupyter-events>=0.9.0->jupyter-server<3,>=2.4.0->notebook->jupyter) (2.9.0.20240316)\n",
      "Note: you may need to restart the kernel to use updated packages.\n"
     ]
    },
    {
     "name": "stderr",
     "output_type": "stream",
     "text": [
      "\n",
      "[notice] A new release of pip is available: 23.3.1 -> 24.0\n",
      "[notice] To update, run: python.exe -m pip install --upgrade pip\n"
     ]
    }
   ],
   "source": [
    "%pip install --user pymilvus \"pymilvus[model]\" sentence-transformers nltk FlagEmbedding ipywidgets\n",
    "%pip install --user --upgrade jupyter ipywidgets"
   ]
  },
  {
   "cell_type": "code",
   "execution_count": 1,
   "metadata": {},
   "outputs": [
    {
     "name": "stdout",
     "output_type": "stream",
     "text": [
      "Requirement already satisfied: jupyter_contrib_nbextensions in c:\\users\\me\\appdata\\roaming\\python\\python312\\site-packages (0.7.0)\n",
      "Requirement already satisfied: notebook in c:\\users\\me\\appdata\\roaming\\python\\python312\\site-packages (7.2.1)\n",
      "Requirement already satisfied: ipython-genutils in c:\\python312\\lib\\site-packages (from jupyter_contrib_nbextensions) (0.2.0)\n",
      "Requirement already satisfied: jupyter-contrib-core>=0.3.3 in c:\\python312\\lib\\site-packages (from jupyter_contrib_nbextensions) (0.4.2)\n",
      "Requirement already satisfied: jupyter-core in c:\\users\\me\\appdata\\roaming\\python\\python312\\site-packages (from jupyter_contrib_nbextensions) (5.7.2)\n",
      "Requirement already satisfied: jupyter-highlight-selected-word>=0.1.1 in c:\\python312\\lib\\site-packages (from jupyter_contrib_nbextensions) (0.2.0)\n",
      "Requirement already satisfied: jupyter-nbextensions-configurator>=0.4.0 in c:\\users\\me\\appdata\\roaming\\python\\python312\\site-packages (from jupyter_contrib_nbextensions) (0.6.4)\n",
      "Requirement already satisfied: nbconvert>=6.0 in c:\\users\\me\\appdata\\roaming\\python\\python312\\site-packages (from jupyter_contrib_nbextensions) (7.16.4)\n",
      "Requirement already satisfied: tornado in c:\\users\\me\\appdata\\roaming\\python\\python312\\site-packages (from jupyter_contrib_nbextensions) (6.4.1)\n",
      "Requirement already satisfied: traitlets>=4.1 in c:\\users\\me\\appdata\\roaming\\python\\python312\\site-packages (from jupyter_contrib_nbextensions) (5.14.3)\n",
      "Requirement already satisfied: lxml in c:\\python312\\lib\\site-packages (from jupyter_contrib_nbextensions) (5.2.2)\n",
      "Requirement already satisfied: jupyter-server<3,>=2.4.0 in c:\\users\\me\\appdata\\roaming\\python\\python312\\site-packages (from notebook) (2.14.1)\n",
      "Requirement already satisfied: jupyterlab-server<3,>=2.27.1 in c:\\users\\me\\appdata\\roaming\\python\\python312\\site-packages (from notebook) (2.27.2)\n",
      "Requirement already satisfied: jupyterlab<4.3,>=4.2.0 in c:\\users\\me\\appdata\\roaming\\python\\python312\\site-packages (from notebook) (4.2.2)\n",
      "Requirement already satisfied: notebook-shim<0.3,>=0.2 in c:\\users\\me\\appdata\\roaming\\python\\python312\\site-packages (from notebook) (0.2.4)\n",
      "Requirement already satisfied: setuptools in c:\\python312\\lib\\site-packages (from jupyter-contrib-core>=0.3.3->jupyter_contrib_nbextensions) (69.2.0)\n",
      "Requirement already satisfied: pyyaml in c:\\python312\\lib\\site-packages (from jupyter-nbextensions-configurator>=0.4.0->jupyter_contrib_nbextensions) (6.0.1)\n",
      "Requirement already satisfied: anyio>=3.1.0 in c:\\python312\\lib\\site-packages (from jupyter-server<3,>=2.4.0->notebook) (4.0.0)\n",
      "Requirement already satisfied: argon2-cffi>=21.1 in c:\\users\\me\\appdata\\roaming\\python\\python312\\site-packages (from jupyter-server<3,>=2.4.0->notebook) (23.1.0)\n",
      "Requirement already satisfied: jinja2>=3.0.3 in c:\\users\\me\\appdata\\roaming\\python\\python312\\site-packages (from jupyter-server<3,>=2.4.0->notebook) (3.1.4)\n",
      "Requirement already satisfied: jupyter-client>=7.4.4 in c:\\users\\me\\appdata\\roaming\\python\\python312\\site-packages (from jupyter-server<3,>=2.4.0->notebook) (8.6.2)\n",
      "Requirement already satisfied: jupyter-events>=0.9.0 in c:\\users\\me\\appdata\\roaming\\python\\python312\\site-packages (from jupyter-server<3,>=2.4.0->notebook) (0.10.0)\n",
      "Requirement already satisfied: jupyter-server-terminals>=0.4.4 in c:\\users\\me\\appdata\\roaming\\python\\python312\\site-packages (from jupyter-server<3,>=2.4.0->notebook) (0.5.3)\n",
      "Requirement already satisfied: nbformat>=5.3.0 in c:\\users\\me\\appdata\\roaming\\python\\python312\\site-packages (from jupyter-server<3,>=2.4.0->notebook) (5.10.4)\n",
      "Requirement already satisfied: overrides>=5.0 in c:\\users\\me\\appdata\\roaming\\python\\python312\\site-packages (from jupyter-server<3,>=2.4.0->notebook) (7.7.0)\n",
      "Requirement already satisfied: packaging>=22.0 in c:\\python312\\lib\\site-packages (from jupyter-server<3,>=2.4.0->notebook) (23.2)\n",
      "Requirement already satisfied: prometheus-client>=0.9 in c:\\users\\me\\appdata\\roaming\\python\\python312\\site-packages (from jupyter-server<3,>=2.4.0->notebook) (0.20.0)\n",
      "Requirement already satisfied: pywinpty>=2.0.1 in c:\\users\\me\\appdata\\roaming\\python\\python312\\site-packages (from jupyter-server<3,>=2.4.0->notebook) (2.0.13)\n",
      "Requirement already satisfied: pyzmq>=24 in c:\\users\\me\\appdata\\roaming\\python\\python312\\site-packages (from jupyter-server<3,>=2.4.0->notebook) (26.0.3)\n",
      "Requirement already satisfied: send2trash>=1.8.2 in c:\\users\\me\\appdata\\roaming\\python\\python312\\site-packages (from jupyter-server<3,>=2.4.0->notebook) (1.8.3)\n",
      "Requirement already satisfied: terminado>=0.8.3 in c:\\users\\me\\appdata\\roaming\\python\\python312\\site-packages (from jupyter-server<3,>=2.4.0->notebook) (0.18.1)\n",
      "Requirement already satisfied: websocket-client>=1.7 in c:\\users\\me\\appdata\\roaming\\python\\python312\\site-packages (from jupyter-server<3,>=2.4.0->notebook) (1.8.0)\n",
      "Requirement already satisfied: platformdirs>=2.5 in c:\\users\\me\\appdata\\roaming\\python\\python312\\site-packages (from jupyter-core->jupyter_contrib_nbextensions) (3.11.0)\n",
      "Requirement already satisfied: pywin32>=300 in c:\\users\\me\\appdata\\roaming\\python\\python312\\site-packages (from jupyter-core->jupyter_contrib_nbextensions) (306)\n",
      "Requirement already satisfied: async-lru>=1.0.0 in c:\\users\\me\\appdata\\roaming\\python\\python312\\site-packages (from jupyterlab<4.3,>=4.2.0->notebook) (2.0.4)\n",
      "Requirement already satisfied: httpx>=0.25.0 in c:\\users\\me\\appdata\\roaming\\python\\python312\\site-packages (from jupyterlab<4.3,>=4.2.0->notebook) (0.27.0)\n",
      "Requirement already satisfied: ipykernel>=6.5.0 in c:\\users\\me\\appdata\\roaming\\python\\python312\\site-packages (from jupyterlab<4.3,>=4.2.0->notebook) (6.29.4)\n",
      "Requirement already satisfied: jupyter-lsp>=2.0.0 in c:\\users\\me\\appdata\\roaming\\python\\python312\\site-packages (from jupyterlab<4.3,>=4.2.0->notebook) (2.2.5)\n",
      "Requirement already satisfied: babel>=2.10 in c:\\users\\me\\appdata\\roaming\\python\\python312\\site-packages (from jupyterlab-server<3,>=2.27.1->notebook) (2.15.0)\n",
      "Requirement already satisfied: json5>=0.9.0 in c:\\users\\me\\appdata\\roaming\\python\\python312\\site-packages (from jupyterlab-server<3,>=2.27.1->notebook) (0.9.25)\n",
      "Requirement already satisfied: jsonschema>=4.18.0 in c:\\users\\me\\appdata\\roaming\\python\\python312\\site-packages (from jupyterlab-server<3,>=2.27.1->notebook) (4.22.0)\n",
      "Requirement already satisfied: requests>=2.31 in c:\\users\\me\\appdata\\roaming\\python\\python312\\site-packages (from jupyterlab-server<3,>=2.27.1->notebook) (2.32.3)\n",
      "Requirement already satisfied: beautifulsoup4 in c:\\users\\me\\appdata\\roaming\\python\\python312\\site-packages (from nbconvert>=6.0->jupyter_contrib_nbextensions) (4.12.3)\n",
      "Requirement already satisfied: bleach!=5.0.0 in c:\\users\\me\\appdata\\roaming\\python\\python312\\site-packages (from nbconvert>=6.0->jupyter_contrib_nbextensions) (6.1.0)\n",
      "Requirement already satisfied: defusedxml in c:\\users\\me\\appdata\\roaming\\python\\python312\\site-packages (from nbconvert>=6.0->jupyter_contrib_nbextensions) (0.7.1)\n",
      "Requirement already satisfied: jupyterlab-pygments in c:\\users\\me\\appdata\\roaming\\python\\python312\\site-packages (from nbconvert>=6.0->jupyter_contrib_nbextensions) (0.3.0)\n",
      "Requirement already satisfied: markupsafe>=2.0 in c:\\users\\me\\appdata\\roaming\\python\\python312\\site-packages (from nbconvert>=6.0->jupyter_contrib_nbextensions) (2.1.5)\n",
      "Requirement already satisfied: mistune<4,>=2.0.3 in c:\\users\\me\\appdata\\roaming\\python\\python312\\site-packages (from nbconvert>=6.0->jupyter_contrib_nbextensions) (3.0.2)\n",
      "Requirement already satisfied: nbclient>=0.5.0 in c:\\users\\me\\appdata\\roaming\\python\\python312\\site-packages (from nbconvert>=6.0->jupyter_contrib_nbextensions) (0.10.0)\n",
      "Requirement already satisfied: pandocfilters>=1.4.1 in c:\\users\\me\\appdata\\roaming\\python\\python312\\site-packages (from nbconvert>=6.0->jupyter_contrib_nbextensions) (1.5.1)\n",
      "Requirement already satisfied: pygments>=2.4.1 in c:\\users\\me\\appdata\\roaming\\python\\python312\\site-packages (from nbconvert>=6.0->jupyter_contrib_nbextensions) (2.18.0)\n",
      "Requirement already satisfied: tinycss2 in c:\\users\\me\\appdata\\roaming\\python\\python312\\site-packages (from nbconvert>=6.0->jupyter_contrib_nbextensions) (1.3.0)\n",
      "Requirement already satisfied: idna>=2.8 in c:\\python312\\lib\\site-packages (from anyio>=3.1.0->jupyter-server<3,>=2.4.0->notebook) (3.4)\n",
      "Requirement already satisfied: sniffio>=1.1 in c:\\python312\\lib\\site-packages (from anyio>=3.1.0->jupyter-server<3,>=2.4.0->notebook) (1.3.0)\n",
      "Requirement already satisfied: argon2-cffi-bindings in c:\\users\\me\\appdata\\roaming\\python\\python312\\site-packages (from argon2-cffi>=21.1->jupyter-server<3,>=2.4.0->notebook) (21.2.0)\n",
      "Requirement already satisfied: six>=1.9.0 in c:\\users\\me\\appdata\\roaming\\python\\python312\\site-packages (from bleach!=5.0.0->nbconvert>=6.0->jupyter_contrib_nbextensions) (1.16.0)\n",
      "Requirement already satisfied: webencodings in c:\\users\\me\\appdata\\roaming\\python\\python312\\site-packages (from bleach!=5.0.0->nbconvert>=6.0->jupyter_contrib_nbextensions) (0.5.1)\n",
      "Requirement already satisfied: certifi in c:\\python312\\lib\\site-packages (from httpx>=0.25.0->jupyterlab<4.3,>=4.2.0->notebook) (2023.7.22)\n",
      "Requirement already satisfied: httpcore==1.* in c:\\users\\me\\appdata\\roaming\\python\\python312\\site-packages (from httpx>=0.25.0->jupyterlab<4.3,>=4.2.0->notebook) (1.0.5)\n",
      "Requirement already satisfied: h11<0.15,>=0.13 in c:\\python312\\lib\\site-packages (from httpcore==1.*->httpx>=0.25.0->jupyterlab<4.3,>=4.2.0->notebook) (0.14.0)\n",
      "Requirement already satisfied: comm>=0.1.1 in c:\\users\\me\\appdata\\roaming\\python\\python312\\site-packages (from ipykernel>=6.5.0->jupyterlab<4.3,>=4.2.0->notebook) (0.2.2)\n",
      "Requirement already satisfied: debugpy>=1.6.5 in c:\\users\\me\\appdata\\roaming\\python\\python312\\site-packages (from ipykernel>=6.5.0->jupyterlab<4.3,>=4.2.0->notebook) (1.8.1)\n",
      "Requirement already satisfied: ipython>=7.23.1 in c:\\users\\me\\appdata\\roaming\\python\\python312\\site-packages (from ipykernel>=6.5.0->jupyterlab<4.3,>=4.2.0->notebook) (8.25.0)\n",
      "Requirement already satisfied: matplotlib-inline>=0.1 in c:\\users\\me\\appdata\\roaming\\python\\python312\\site-packages (from ipykernel>=6.5.0->jupyterlab<4.3,>=4.2.0->notebook) (0.1.7)\n",
      "Requirement already satisfied: nest-asyncio in c:\\users\\me\\appdata\\roaming\\python\\python312\\site-packages (from ipykernel>=6.5.0->jupyterlab<4.3,>=4.2.0->notebook) (1.6.0)\n",
      "Requirement already satisfied: psutil in c:\\users\\me\\appdata\\roaming\\python\\python312\\site-packages (from ipykernel>=6.5.0->jupyterlab<4.3,>=4.2.0->notebook) (5.9.8)\n",
      "Requirement already satisfied: attrs>=22.2.0 in c:\\users\\me\\appdata\\roaming\\python\\python312\\site-packages (from jsonschema>=4.18.0->jupyterlab-server<3,>=2.27.1->notebook) (23.2.0)\n",
      "Requirement already satisfied: jsonschema-specifications>=2023.03.6 in c:\\users\\me\\appdata\\roaming\\python\\python312\\site-packages (from jsonschema>=4.18.0->jupyterlab-server<3,>=2.27.1->notebook) (2023.12.1)\n",
      "Requirement already satisfied: referencing>=0.28.4 in c:\\users\\me\\appdata\\roaming\\python\\python312\\site-packages (from jsonschema>=4.18.0->jupyterlab-server<3,>=2.27.1->notebook) (0.35.1)\n",
      "Requirement already satisfied: rpds-py>=0.7.1 in c:\\users\\me\\appdata\\roaming\\python\\python312\\site-packages (from jsonschema>=4.18.0->jupyterlab-server<3,>=2.27.1->notebook) (0.18.1)\n",
      "Requirement already satisfied: python-dateutil>=2.8.2 in c:\\users\\me\\appdata\\roaming\\python\\python312\\site-packages (from jupyter-client>=7.4.4->jupyter-server<3,>=2.4.0->notebook) (2.9.0.post0)\n",
      "Requirement already satisfied: python-json-logger>=2.0.4 in c:\\users\\me\\appdata\\roaming\\python\\python312\\site-packages (from jupyter-events>=0.9.0->jupyter-server<3,>=2.4.0->notebook) (2.0.7)\n",
      "Requirement already satisfied: rfc3339-validator in c:\\users\\me\\appdata\\roaming\\python\\python312\\site-packages (from jupyter-events>=0.9.0->jupyter-server<3,>=2.4.0->notebook) (0.1.4)\n",
      "Requirement already satisfied: rfc3986-validator>=0.1.1 in c:\\users\\me\\appdata\\roaming\\python\\python312\\site-packages (from jupyter-events>=0.9.0->jupyter-server<3,>=2.4.0->notebook) (0.1.1)\n",
      "Requirement already satisfied: fastjsonschema>=2.15 in c:\\users\\me\\appdata\\roaming\\python\\python312\\site-packages (from nbformat>=5.3.0->jupyter-server<3,>=2.4.0->notebook) (2.19.1)\n",
      "Requirement already satisfied: charset-normalizer<4,>=2 in c:\\python312\\lib\\site-packages (from requests>=2.31->jupyterlab-server<3,>=2.27.1->notebook) (3.3.2)\n",
      "Requirement already satisfied: urllib3<3,>=1.21.1 in c:\\python312\\lib\\site-packages (from requests>=2.31->jupyterlab-server<3,>=2.27.1->notebook) (2.0.7)\n",
      "Requirement already satisfied: soupsieve>1.2 in c:\\users\\me\\appdata\\roaming\\python\\python312\\site-packages (from beautifulsoup4->nbconvert>=6.0->jupyter_contrib_nbextensions) (2.5)\n",
      "Requirement already satisfied: decorator in c:\\users\\me\\appdata\\roaming\\python\\python312\\site-packages (from ipython>=7.23.1->ipykernel>=6.5.0->jupyterlab<4.3,>=4.2.0->notebook) (5.1.1)\n",
      "Requirement already satisfied: jedi>=0.16 in c:\\users\\me\\appdata\\roaming\\python\\python312\\site-packages (from ipython>=7.23.1->ipykernel>=6.5.0->jupyterlab<4.3,>=4.2.0->notebook) (0.19.1)\n",
      "Requirement already satisfied: prompt-toolkit<3.1.0,>=3.0.41 in c:\\users\\me\\appdata\\roaming\\python\\python312\\site-packages (from ipython>=7.23.1->ipykernel>=6.5.0->jupyterlab<4.3,>=4.2.0->notebook) (3.0.47)\n",
      "Requirement already satisfied: stack-data in c:\\users\\me\\appdata\\roaming\\python\\python312\\site-packages (from ipython>=7.23.1->ipykernel>=6.5.0->jupyterlab<4.3,>=4.2.0->notebook) (0.6.3)\n",
      "Requirement already satisfied: colorama in c:\\python312\\lib\\site-packages (from ipython>=7.23.1->ipykernel>=6.5.0->jupyterlab<4.3,>=4.2.0->notebook) (0.4.6)\n",
      "Requirement already satisfied: fqdn in c:\\users\\me\\appdata\\roaming\\python\\python312\\site-packages (from jsonschema[format-nongpl]>=4.18.0->jupyter-events>=0.9.0->jupyter-server<3,>=2.4.0->notebook) (1.5.1)\n",
      "Requirement already satisfied: isoduration in c:\\users\\me\\appdata\\roaming\\python\\python312\\site-packages (from jsonschema[format-nongpl]>=4.18.0->jupyter-events>=0.9.0->jupyter-server<3,>=2.4.0->notebook) (20.11.0)\n",
      "Requirement already satisfied: jsonpointer>1.13 in c:\\users\\me\\appdata\\roaming\\python\\python312\\site-packages (from jsonschema[format-nongpl]>=4.18.0->jupyter-events>=0.9.0->jupyter-server<3,>=2.4.0->notebook) (3.0.0)\n",
      "Requirement already satisfied: uri-template in c:\\users\\me\\appdata\\roaming\\python\\python312\\site-packages (from jsonschema[format-nongpl]>=4.18.0->jupyter-events>=0.9.0->jupyter-server<3,>=2.4.0->notebook) (1.3.0)\n",
      "Requirement already satisfied: webcolors>=1.11 in c:\\users\\me\\appdata\\roaming\\python\\python312\\site-packages (from jsonschema[format-nongpl]>=4.18.0->jupyter-events>=0.9.0->jupyter-server<3,>=2.4.0->notebook) (24.6.0)\n",
      "Requirement already satisfied: cffi>=1.0.1 in c:\\python312\\lib\\site-packages (from argon2-cffi-bindings->argon2-cffi>=21.1->jupyter-server<3,>=2.4.0->notebook) (1.16.0)\n",
      "Requirement already satisfied: pycparser in c:\\python312\\lib\\site-packages (from cffi>=1.0.1->argon2-cffi-bindings->argon2-cffi>=21.1->jupyter-server<3,>=2.4.0->notebook) (2.22)\n",
      "Requirement already satisfied: parso<0.9.0,>=0.8.3 in c:\\users\\me\\appdata\\roaming\\python\\python312\\site-packages (from jedi>=0.16->ipython>=7.23.1->ipykernel>=6.5.0->jupyterlab<4.3,>=4.2.0->notebook) (0.8.4)\n",
      "Requirement already satisfied: wcwidth in c:\\users\\me\\appdata\\roaming\\python\\python312\\site-packages (from prompt-toolkit<3.1.0,>=3.0.41->ipython>=7.23.1->ipykernel>=6.5.0->jupyterlab<4.3,>=4.2.0->notebook) (0.2.13)\n",
      "Requirement already satisfied: arrow>=0.15.0 in c:\\users\\me\\appdata\\roaming\\python\\python312\\site-packages (from isoduration->jsonschema[format-nongpl]>=4.18.0->jupyter-events>=0.9.0->jupyter-server<3,>=2.4.0->notebook) (1.3.0)\n",
      "Requirement already satisfied: executing>=1.2.0 in c:\\users\\me\\appdata\\roaming\\python\\python312\\site-packages (from stack-data->ipython>=7.23.1->ipykernel>=6.5.0->jupyterlab<4.3,>=4.2.0->notebook) (2.0.1)\n",
      "Requirement already satisfied: asttokens>=2.1.0 in c:\\users\\me\\appdata\\roaming\\python\\python312\\site-packages (from stack-data->ipython>=7.23.1->ipykernel>=6.5.0->jupyterlab<4.3,>=4.2.0->notebook) (2.4.1)\n",
      "Requirement already satisfied: pure-eval in c:\\users\\me\\appdata\\roaming\\python\\python312\\site-packages (from stack-data->ipython>=7.23.1->ipykernel>=6.5.0->jupyterlab<4.3,>=4.2.0->notebook) (0.2.2)\n",
      "Requirement already satisfied: types-python-dateutil>=2.8.10 in c:\\users\\me\\appdata\\roaming\\python\\python312\\site-packages (from arrow>=0.15.0->isoduration->jsonschema[format-nongpl]>=4.18.0->jupyter-events>=0.9.0->jupyter-server<3,>=2.4.0->notebook) (2.9.0.20240316)\n",
      "Note: you may need to restart the kernel to use updated packages.\n"
     ]
    },
    {
     "name": "stderr",
     "output_type": "stream",
     "text": [
      "\n",
      "[notice] A new release of pip is available: 23.3.1 -> 24.0\n",
      "[notice] To update, run: python.exe -m pip install --upgrade pip\n",
      "usage: jupyter [-h] [--version] [--config-dir] [--data-dir] [--runtime-dir]\n",
      "               [--paths] [--json] [--debug]\n",
      "               [subcommand]\n",
      "\n",
      "Jupyter: Interactive Computing\n",
      "\n",
      "positional arguments:\n",
      "  subcommand     the subcommand to launch\n",
      "\n",
      "options:\n",
      "  -h, --help     show this help message and exit\n",
      "  --version      show the versions of core jupyter packages and exit\n",
      "  --config-dir   show Jupyter config dir\n",
      "  --data-dir     show Jupyter data dir\n",
      "  --runtime-dir  show Jupyter runtime dir\n",
      "  --paths        show all Jupyter paths. Add --json for machine-readable\n",
      "                 format.\n",
      "  --json         output paths as machine-readable json\n",
      "  --debug        output debug information about paths\n",
      "\n",
      "Available subcommands: console contrib-nbextension dejavu events execute\n",
      "kernel kernelspec lab labextension labhub migrate nbconvert\n",
      "nbextensions_configurator notebook qtconsole run server troubleshoot trust\n",
      "\n",
      "Jupyter command `jupyter-contrib` not found.\n",
      "usage: jupyter [-h] [--version] [--config-dir] [--data-dir] [--runtime-dir]\n",
      "               [--paths] [--json] [--debug]\n",
      "               [subcommand]\n",
      "\n",
      "Jupyter: Interactive Computing\n",
      "\n",
      "positional arguments:\n",
      "  subcommand     the subcommand to launch\n",
      "\n",
      "options:\n",
      "  -h, --help     show this help message and exit\n",
      "  --version      show the versions of core jupyter packages and exit\n",
      "  --config-dir   show Jupyter config dir\n",
      "  --data-dir     show Jupyter data dir\n",
      "  --runtime-dir  show Jupyter runtime dir\n",
      "  --paths        show all Jupyter paths. Add --json for machine-readable\n",
      "                 format.\n",
      "  --json         output paths as machine-readable json\n",
      "  --debug        output debug information about paths\n",
      "\n",
      "Available subcommands: console contrib-nbextension dejavu events execute\n",
      "kernel kernelspec lab labextension labhub migrate nbconvert\n",
      "nbextensions_configurator notebook qtconsole run server troubleshoot trust\n",
      "\n",
      "Jupyter command `jupyter-nbextension` not found.\n"
     ]
    }
   ],
   "source": [
    "%pip install --user --upgrade jupyter_contrib_nbextensions notebook\n",
    "!jupyter contrib nbextension install --user\n",
    "!jupyter nbextension enable --py widgetsnbextension"
   ]
  },
  {
   "cell_type": "markdown",
   "metadata": {},
   "source": [
    "# фильтрация датасета"
   ]
  },
  {
   "cell_type": "code",
   "execution_count": 149,
   "metadata": {},
   "outputs": [],
   "source": [
    "import pandas as pd\n",
    "df = pd.read_excel(\"Вопросы и ответы.xlsx\", header=1)\n",
    "df = df.dropna()#[:5000]"
   ]
  },
  {
   "cell_type": "code",
   "execution_count": 63,
   "metadata": {},
   "outputs": [
    {
     "name": "stderr",
     "output_type": "stream",
     "text": [
      "[nltk_data] Downloading package stopwords to\n",
      "[nltk_data]     C:\\Users\\me\\AppData\\Roaming\\nltk_data...\n",
      "[nltk_data]   Package stopwords is already up-to-date!\n"
     ]
    }
   ],
   "source": [
    "import nltk\n",
    "from nltk.corpus import stopwords\n",
    "nltk.download('stopwords')\n",
    "stops = stopwords.words('russian') + [\"добрый\", \"день\", \"доброе\", \"утро\", \"вечер\", \"спасибо\", \"пожалуйста\", \"прошу\", \"коллеги\", \"уточнить\"]\n",
    "# stopwords.words('russian')"
   ]
  },
  {
   "cell_type": "code",
   "execution_count": 150,
   "metadata": {},
   "outputs": [
    {
     "name": "stderr",
     "output_type": "stream",
     "text": [
      "C:\\Users\\me\\AppData\\Local\\Temp\\ipykernel_20236\\3270604459.py:14: SettingWithCopyWarning: \n",
      "A value is trying to be set on a copy of a slice from a DataFrame\n",
      "\n",
      "See the caveats in the documentation: https://pandas.pydata.org/pandas-docs/stable/user_guide/indexing.html#returning-a-view-versus-a-copy\n",
      "  df_clean[['Описание', \"Решение\"]].replace('', np.nan, inplace=True)\n"
     ]
    },
    {
     "data": {
      "text/plain": [
       "1         доработка функционала 1с erp xx возможна толь...\n",
       "2        доработка функционала возможна в рамках запрос...\n",
       "3         а в системе созданы отчеты по дебиторской и к...\n",
       "4        доработка функционала возможна в рамках запрос...\n",
       "5         наталья сергеевна доработка функционала возмо...\n",
       "                               ...                        \n",
       "22360     пользователь отключен от системы 1с erp при в...\n",
       "22362     владимир олегович настроила для вас отчет вед...\n",
       "22363     а очищен регистр рамочных договоров по догово...\n",
       "22364                                   обращение отозвано\n",
       "22365                                   обращение отозвано\n",
       "Name: Решение, Length: 18670, dtype: object"
      ]
     },
     "execution_count": 150,
     "metadata": {},
     "output_type": "execute_result"
    }
   ],
   "source": [
    "import regex as re\n",
    "import numpy as np\n",
    "\n",
    "df_clean = df.copy()\n",
    "df_clean[['Описание', \"Решение\"]] = df_clean[[\"Описание\", \"Решение\"]].apply(lambda row: row.str.lower())\n",
    "df_clean[['Описание', \"Решение\"]] = df_clean[[\"Описание\", \"Решение\"]].apply(lambda row: row.str.replace(r'(\\[.+\\])|(\\{.+\\})', \" \", regex=True))\n",
    "df_clean[['Описание', \"Решение\"]] = df_clean[[\"Описание\", \"Решение\"]].apply(lambda row: row.str.replace(r'[a-z-./]{4,}', \" \", regex=True))\n",
    "df_clean[['Описание', \"Решение\"]] = df_clean[[\"Описание\", \"Решение\"]].apply(lambda row: row.str.replace(r'[^\\w ]+', \"\", regex=True))\n",
    "df_clean[['Описание', \"Решение\"]] = df_clean[[\"Описание\", \"Решение\"]].apply(lambda row: row.str.replace(r'xc', \"1с\", regex=True))\n",
    "df_clean[['Описание', \"Решение\"]] = df_clean[[\"Описание\", \"Решение\"]].apply(lambda row: row.str.replace(r'xс', \"1с\", regex=True))\n",
    "df_clean[['Описание', \"Решение\"]] = df_clean[[\"Описание\", \"Решение\"]].apply(lambda row: row.str.replace(r'\\s+', \" \", regex=True))\n",
    "df_clean['Описание'] = df_clean[\"Описание\"].apply(lambda row: \" \".join([x for x in row.split(\" \") if x not in stops]))\n",
    "df_clean[['Решение']] = df_clean[[\"Решение\"]].apply(lambda row: row.str.replace(r'(добрый день)|(здравствуйте)|(добрый вечер)|(доброе утро)', \"\", regex=True))\n",
    "df_clean[['Описание', \"Решение\"]].replace('', np.nan, inplace=True)\n",
    "\n",
    "df_clean = df_clean.dropna()\n",
    "df_clean[\"Решение\"]"
   ]
  },
  {
   "cell_type": "markdown",
   "metadata": {},
   "source": [
    "# эмбеддинги"
   ]
  },
  {
   "cell_type": "code",
   "execution_count": 151,
   "metadata": {},
   "outputs": [
    {
     "name": "stderr",
     "output_type": "stream",
     "text": [
      "c:\\Python312\\Lib\\site-packages\\huggingface_hub\\file_download.py:1132: FutureWarning: `resume_download` is deprecated and will be removed in version 1.0.0. Downloads always resume when possible. If you want to force a new download, use `force_download=True`.\n",
      "  warnings.warn(\n",
      "100%|██████████| 18670/18670 [55:34<00:00,  5.60it/s]  \n"
     ]
    },
    {
     "name": "stdout",
     "output_type": "stream",
     "text": [
      "Dim: 1024 (1024,)\n",
      "Data has 18670 entities, each with fields:  dict_keys(['id', 'vector', 'text', 'answer'])\n",
      "Vector dim: 1024\n"
     ]
    }
   ],
   "source": [
    "from pymilvus import model\n",
    "from tqdm import tqdm\n",
    "\n",
    "# embedding_fn = model.hybrid.BGEM3EmbeddingFunction(use_fp16=False, device=\"cpu\")\n",
    "embedding_fn = model.dense.SentenceTransformerEmbeddingFunction(\n",
    "    model_name='BAAI/bge-m3', # Specify the model name\n",
    "    device='cpu' # Specify the device to use, e.g., 'cpu' or 'cuda:0'\n",
    ")\n",
    "\n",
    "docs = df_clean[\"Описание\"].str[:8192].values.tolist()\n",
    "vectors = []# embedding_fn.encode_documents(tqdm(docs))\n",
    "for doc in tqdm(docs):\n",
    "    vectors.append(embedding_fn.encode_documents([doc])[0])\n",
    "print(\"Dim:\", embedding_fn.dim, vectors[0].shape)  # Dim: 768 (768,)\n",
    "\n",
    "# Each entity has id, vector representation, raw text, and a subject label that we use\n",
    "# to demo metadata filtering later.\n",
    "data = [\n",
    "    {\"id\": i, \"vector\": vectors[i], \"text\": df_clean.iloc[i][\"Описание\"], \"answer\": df_clean.iloc[i][\"Решение\"]}\n",
    "    for i in range(len(vectors))\n",
    "]\n",
    "\n",
    "print(\"Data has\", len(data), \"entities, each with fields: \", data[0].keys())\n",
    "print(\"Vector dim:\", len(data[0][\"vector\"]))"
   ]
  },
  {
   "cell_type": "code",
   "execution_count": 10,
   "metadata": {},
   "outputs": [
    {
     "name": "stdout",
     "output_type": "stream",
     "text": [
      "['Коллеги, добрый день. Нет информации еще. Прошу уточнить, когда ждать решение по данному вопросу?    В Пн, XX/XX/XXXX в XX:XX +XXXX, Лушникова Ольга Владимировна пишет: Добрый день, Алексей.  Посмотрите, пожалуйста, письмо ниже. Очень ждем обратную связь.    {cid:imageXXX.png@XXDXXXXA.XXFAXXXX]  ', 'Добрый день, Елена Анатольевна!  Поясните, пожалуйста, по документу этап производства № АОXX-XXX.X.X от XX.XX.XXXX выбрана аналитика по сч. XX «Прочие расходы на персонал_XX_Приним», а в результате сумма затрат относится на ПР или делится по слоям налогового учета (№XXX.X.X от XX.XX.XXXX). Сумма XXX XXX,XX руб. – это премия при увольнении работника, по КШ принимаемая для НУ. Что нужно сделать, чтобы в налоговом учете было все в соответстии?  {cid:imageXXX.jpg@XXDAXXXE.DXXXBEEX]   ____________  ', 'Коллеги,  К закрытию декабря критичными являются следующие вопросы (в том числе, обозначенные аудиторами):  X.    Отчет по затратам (SDXXXXXXXX);  X.    Реклассификация договоров из не ДЦИ в ДЦИ, с пересчетом выручки, актированной с начала действия договора с использованием счета XX (SDXXXXXXXX);  X.    Резервы по обременительным договорам (SDXXXXXXXX);  X.    К одной схеме отражения выручки по ДЦИ (сч.XX), две схемы налогового учета: продажа товара и реализация СМР:  -        разные принципы отражения операций в БУ и НУ, включая ставки НДС при использовании «работы» для целей продажи оборудования по торговой схеме;  -        возможность разделения/объединения позиций номенклатуры после начала работы с этими позициям;  -        Задача поставки оборудования через XX счет по уже начатам поставкам (текущая Боливия).  X.    Признание выручки и корректировка выручки по сч.XX должна осуществляться одним документом только последней датой месяца по курсу на последний день месяца. Документ должен предусматривать возможность отражения выручки как в «+», так и в «-»;  X.    Прослеживаемость товаров (поставка оборудования в рамках СМР) (SDXXXXXXXX);  X.    Некорректные акты сверки;  X.    Проверить работу системы с резервами по гарантийным обязательствам: начисление, использование, инвентаризация (доначисление/сторнирование) и восстановление.   Не менее важные вопросы, требующие решения:  X.    Операции субподряда с давальческим учетом (SDXXXXXXXX);  X.    По отражению выручки с использованием счета XX:  -        При определении рублевого эквивалента ЧП по валютным договорам, предусмотреть возможность выбора процента аванса;  -        При продлении срока действия этапа / договора дата автоматически не меняется в связанных документах, её надо менять везде вручную (заказ клиента, ГАУ, заказ на производство, этапы)  X.    Рабочее место по вводу данных по производственной цепочке   Прошу ответить на какой стадии решение вопросов, ФИО ответственных испаолнителей, особенно в части закрытия декабря. Все вопросы сведены в табл во вложении  ', 'Доброе утро! Обращение не закрываем, отправляем на доработку. Это отраслевая задача. Поставлена руководством. Ждем от Вас обходных решений. В УПП такая возможность была. From: Васильева Н.В. {mailto:Vasilyeva@atech.ru] Sent: Wednesday, January XX, XXXX X:XX PM To: Zhelyabovskaya@atech.ru Subject: RE: Обращение SDXXXXXXXX - решено. Краткое описание: Передача расходов между филиалами Напиши на доработку, пусть предложат обходное решение, чтобы затраты по юр. лицу отражались как прямые (когда с XX они косвенные). From: Желябовская О.В. {mailto:Zhelyabovskaya@atech.ru] Sent: Wednesday, January XX, XXXX X:XX PM To: Васильева Наталия Валентиновна <Vasilyeva@atech.ru<mailto:Vasilyeva@atech.ru>> Subject: FW: Обращение SDXXXXXXXX - решено. Краткое описание: Передача расходов между филиалами Обращение закрывают From: Уведомления Сервис Деск {mailto:no-reply-sm@greenatom.ru] Sent: Wednesday, January XX, XXXX X:XX PM To: Zhelyabovskaya@atech.ru<mailto:Zhelyabovskaya@atech.ru> Subject: Обращение SDXXXXXXXX - решено. Краткое описание: Передача расходов между филиалами Номер обращения SDXXXXXXXX Полное описание по ссылке<http://smreport.rosatom.ru/Reports/Pages/ReportViewer.aspx?/SMX/Ess/InteractionCard&rc:Parameters=false&pRequestNumber=SDXXXXXXXX> решено Краткое описание Передача расходов между филиалами Дата регистрации XX/XX/XX XX:XX:XX Результат выполнения Добрый день, коллеги. По данному функционалу направлялся ответ от проекта о невозможности передачи затрат через счет XX. Была дана рекомендация проекта: ``Уважаемые коллеги, Обращаю внимание, что система ЕРП X не предусматривает передачу постатейных производственных расходов (XX, XX, XX) между филиалами. Производственные расходы можно передавать только после выпуска работы (собрать Затраты на Заказе, Закрыть Этап, передать Работу).`` Новый вопрос Отправить новый запрос<mailto:XXXX@greenatom.ru?subject=Из%XXобращения%XXSDXXXXXXXX%XXот%XXXX.XX.XXXX> Основной запрос выполнен. Оцените, насколько Вы удовлетворены результатом. (Нажмите на цифру с оценкой справа и отправьте появившееся письмо. Пожалуйста, не меняйте тему письма.) Обращение не выполнено, вернуть на доработку<mailto:gren-a-sdeskX@greenatom.ru?subject=Оценка%XXпо%XXобращению%XXSDXXXXXXXX%XXВернуть%XXна%XXдоработку%XXXX%XXmark&body=**************************************************%XA%XX{ОБЯЗАТЕЛЬНО%XXУКАЖИТЕ%XXПРИЧИНУ%XXВОЗВРАТА]:%XX%XA**************************************************> (комментарий обязателен) X ужасно (комментарий обязателен)<mailto:gren-a-sdeskX@greenatom.ru?subject=Оценка%XXпо%XXобращению%XXSDXXXXXXXX%XXРаботы%XXвыполнены%XXXX%XXmark&body=**************************************************%XA%XX{ОБЯЗАТЕЛЬНО%XXУКАЖИТЕ%XXПРИЧИНУ%XXНИЗКОЙ%XXОЦЕНКИ]:%XX%XA**************************************************> X плохо (комментарий обязателен)<mailto:gren-a-sdeskX@greenatom.ru?subject=Оценка%XXпо%XXобращению%XXSDXXXXXXXX%XXРаботы%XXвыполнены%XXXX%XXmark&body=**************************************************%XA%XX{ОБЯЗАТЕЛЬНО%XXУКАЖИТЕ%XXПРИЧИНУ%XXНИЗКОЙ%XXОЦЕНКИ]:%XX%XA**************************************************> X Удовлетворительно<mailto:gren-a-sdeskX@greenatom.ru?subject=Оценка%XXпо%XXобращению%XXSDXXXXXXXX%XXРаботы%XXвыполнены%XXXX%XXmark> X Соответствует ожиданиям<mailto:gren-a-sdeskX@greenatom.ru?subject=Оценка%XXпо%XXобращению%XXSDXXXXXXXX%XXРаботы%XXвыполнены%XXXX%XXmark> X Превосходит ожидания<mailto:gren-a-sdeskX@greenatom.ru?subject=Оценка%XXпо%XXобращению%XXSDXXXXXXXX%XXОтлично%XXблагодарю!%XXXX%XXmark> Предложение по улучшению Отправить предложение по улучшению качества сервиса<mailto:gren-a-sdeskX@greenatom.ru?subject=Оценка%XXпо%XXобращению%XXSDXXXXXXXX%XXУлучшить%XXкачество%XXXX%XXmark&body=**************************************************%XA%XX{ОБЯЗАТЕЛЬНО%XXУКАЖИТЕ%XXПРЕДЛОЖЕНИЕ%XXПО%XXУЛУЧШЕНИЮ%XXКАЧЕСТВА]:%XX%XA**************************************************> Претензия Отправить претензию к качеству или к срокам выполнения обращения<mailto:gren-a-sdeskX@greenatom.ru?subject=Оценка%XXпо%XXобращению%XXSDXXXXXXXX%XXСогласен%XXесть%XXпретензия%XXXX%XXmark&body=**************************************************%XA%XX{ОБЯЗАТЕЛЬНО%XXУКАЖИТЕ%XXСУТЬ%XXПРЕТЕНЗИИ]:%XX%XA**************************************************> (обязателен комментарий с описанием сути претензии) Оформить благодарность в адрес работника Центра Поддержки Пользователей можно, зарегистрировав отдельное обращение любым удобным способом. Внимание! Если Вы не оцените результат, то обращение будет закрыто автоматически по истечении XX дня. Данное сообщение создано автоматически, не отвечайте на это письмо. ', 'возможность переноса затрат между филиалами через XX сч. По данному функционалу направлялся ответ от проекта о невозможности передачи затрат через счет XX. Была дана рекомендация проекта: ``Уважаемые коллеги, Обращаю внимание, что система ЕРП X не предусматривает передачу постатейных производственных расходов (XX, XX, XX) между филиалами. Производственные расходы можно передавать только после выпуска работы (собрать Затраты на Заказе, Закрыть Этап, передать Работу).``  ======================== Доброе утро! Обращение не закрываем, отправляем на доработку. Это отраслевая задача. Поставлена руководством. Ждем от Вас обходных решений. В УПП такая возможность была. From: Васильева Н.В. {mailto:Vasilyeva@atech.ru] Sent: Wednesday, January XX, XXXX X:XX PM To: Zhelyabovskaya@atech.ru Subject: RE: Обращение SDXXXXXXXX - решено. Краткое описание: Передача расходов между филиалами Напиши на доработку, пусть предложат обходное решение, чтобы затраты по юр. лицу отражались как прямые (когда с XX они косвенные). From: Желябовская О.В. {mailto:Zhelyabovskaya@atech.ru] Sent: Wednesday, January XX, XXXX X:XX PM To: Васильева Наталия Валентиновна <Vasilyeva@atech.ru<mailto:Vasilyeva@atech.ru>> Subject: FW: Обращение SDXXXXXXXX - решено. Краткое описание: Передача расходов между филиалами Обращение закрывают From: Уведомления Сервис Деск {mailto:no-reply-sm@greenatom.ru] Sent: Wednesday, January XX, XXXX X:XX PM To: Zhelyabovskaya@atech.ru<mailto:Zhelyabovskaya@atech.ru> Subject: Обращение SDXXXXXXXX - решено. Краткое описание: Передача расходов между филиалами Номер обращения SDXXXXXXXX Полное описание по ссылке<http://smreport.rosatom.ru/Reports/Pages/ReportViewer.aspx?/SMX/Ess/InteractionCard&rc:Parameters=false&pRequestNumber=SDXXXXXXXX> решено Краткое описание Передача расходов между филиалами Дата регистрации XX/XX/XX XX:XX:XX Результат выполнения Добрый день, коллеги. По данному функционалу направлялся ответ от проекта о невозможности передачи затрат через счет XX. Была дана рекомендация проекта: ``Уважаемые коллеги, Обращаю внимание, что система ЕРП X не предусматривает передачу постатейных производственных расходов (XX, XX, XX) между филиалами. Производственные расходы можно передавать только после выпуска работы (собрать Затраты на Заказе, Закрыть Этап, передать Работу).`` Новый вопрос Отправить новый запрос<mailto:XXXX@greenatom.ru?subject=Из%XXобращения%XXSDXXXXXXXX%XXот%XXXX.XX.XXXX> Основной запрос выполнен. Оцените, насколько Вы удовлетворены результатом. (Нажмите на цифру с оценкой справа и отправьте появившееся письмо. Пожалуйста, не меняйте тему письма.) Обращение не выполнено, вернуть на доработку<mailto:gren-a-sdeskX@greenatom.ru?subject=Оценка%XXпо%XXобращению%XXSDXXXXXXXX%XXВернуть%XXна%XXдоработку%XXXX%XXmark&body=**************************************************%XA%XX{ОБЯЗАТЕЛЬНО%XXУКАЖИТЕ%XXПРИЧИНУ%XXВОЗВРАТА]:%XX%XA**************************************************> (комментарий обязателен) X ужасно (комментарий обязателен)<mailto:gren-a-sdeskX@greenatom.ru?subject=Оценка%XXпо%XXобращению%XXSDXXXXXXXX%XXРаботы%XXвыполнены%XXXX%XXmark&body=**************************************************%XA%XX{ОБЯЗАТЕЛЬНО%XXУКАЖИТЕ%XXПРИЧИНУ%XXНИЗКОЙ%XXОЦЕНКИ]:%XX%XA**************************************************> X плохо (комментарий обязателен)<mailto:gren-a-sdeskX@greenatom.ru?subject=Оценка%XXпо%XXобращению%XXSDXXXXXXXX%XXРаботы%XXвыполнены%XXXX%XXmark&body=**************************************************%XA%XX{ОБЯЗАТЕЛЬНО%XXУКАЖИТЕ%XXПРИЧИНУ%XXНИЗКОЙ%XXОЦЕНКИ]:%XX%XA**************************************************> X Удовлетворительно<mailto:gren-a-sdeskX@greenatom.ru?subject=Оценка%XXпо%XXобращению%XXSDXXXXXXXX%XXРаботы%XXвыполнены%XXXX%XXmark> X Соответствует ожиданиям<mailto:gren-a-sdeskX@greenatom.ru?subject=Оценка%XXпо%XXобращению%XXSDXXXXXXXX%XXРаботы%XXвыполнены%XXXX%XXmark> X Превосходит ожидания<mailto:gren-a-sdeskX@greenatom.ru?subject=Оценка%XXпо%XXобращению%XXSDXXXXXXXX%XXОтлично%XXблагодарю!%XXXX%XXmark> Предложение по улучшению Отправить предложение по улучшению качества сервиса<mailto:gren-a-sdeskX@greenatom.ru?subject=Оценка%XXпо%XXобращению%XXSDXXXXXXXX%XXУлучшить%XXкачество%XXXX%XXmark&body=**************************************************%XA%XX{ОБЯЗАТЕЛЬНО%XXУКАЖИТЕ%XXПРЕДЛОЖЕНИЕ%XXПО%XXУЛУЧШЕНИЮ%XXКАЧЕСТВА]:%XX%XA**************************************************> Претензия Отправить претензию к качеству или к срокам выполнения обращения<mailto:gren-a-sdeskX@greenatom.ru?subject=Оценка%XXпо%XXобращению%XXSDXXXXXXXX%XXСогласен%XXесть%XXпретензия%XXXX%XXmark&body=**************************************************%XA%XX{ОБЯЗАТЕЛЬНО%XXУКАЖИТЕ%XXСУТЬ%XXПРЕТЕНЗИИ]:%XX%XA**************************************************> (обязателен комментарий с описанием сути претензии) Оформить благодарность в адрес работника Центра Поддержки Пользователей можно, зарегистрировав отдельное обращение любым удобным способом. Внимание! Если Вы не оцените результат, то обращение будет закрыто автоматически по истечении XX дня. Данное сообщение создано автоматически, не отвечайте на это письмо. ', 'Прошу взят в работу вопрос по списанию НЗП загруженного по миграции по состоянию на XX.XX.XXXX  По пояснениям филиала по заказам  по которым НЗП не двигалось в течении года,  выпущена продукция в октябре XXXX года.  Для закрытия НЗП на уже выпущенную продукцию необходимо привлечение проекта , создание дополнительных производственных цепочек.  Учитывая не существенную сумму и подтверждения факта  выпуска продукции в XXXX году ,  предлагается списать НЗП на счет XX  по ГАУ по которой выпущена ГП   ', 'Добрый день! Прошу проинформировать, каким образом в ERP X.X реализовано отражение использование целевых средств при создании НМА. На текущий момент на счете XX.XX в АО «Наука и инновации» числится несколько объектов, создание которых частично финансируется за счет целевых средств, частично-за счет собственных (заемных). Когда на момент миграции в ERP X.X летом XXXX года поднимался данный вопрос – не было точной информации о том, в каком размере каждый объект финансируется за счет целевых средств. Сейчас данная информация поступила в Бухгалтерию, соответственно с XXXX года требуется отражать использование целевых средств при создании НМА (счет XX.XX). Прошу направить соответствующую инструкцию.  ', 'Алексей Юрьевич! Добрый день! Сказали, что к Вам…  §  Неверное списание системой на расходы  в августе: должно было быть списано X XXX,XX, а списалось X XXX,XX  §  X,XX зависли  §  их отнесли на прочие расходы на XX сч  §  Резерв на XX.XX. восстановили в полном объеме X XXX,XX  §  Но в ноябре расчет себестоимости закинул снова -X,XX на XX.XX сч  Просим оказать помощь по исправлению ситуации  {cid:imageXXX.png@XXDAXDXB.XXXXXAXX]   Номенклатура: Автошина Амтел Планет DC  XXXВ  Амт  XXX/XX/XX XX H  {cid:imageXXX.png@XXDAXDXX.XBXXBXFX]{cid:imageXXX.png@XXDAXDXX.AXXXXAXX]    Доброго дня!  ', 'Добрый день Прошу помочь откорректировать сроки погашения. Система не дает срок погашения аванса по данным строкам нужно  проставить до окончания договора -XX.XX.XXXX {cid:imageXXX.png@XXDAXDXA.FXFXXBEX] {cid:imageXXX.png@XXDAXDXA.FXFXXBEX] ', 'Ответ по запросу XX.XX.XXXX не поступил.  ************************************************** {ОБЯЗАТЕЛЬНО УКАЖИТЕ ПРИЧИНУ ВОЗВРАТА]: **************************************************   Юлия Владимировна, добрый день! С декабря XXXX года. АО «Наука и инновации» пересмотрело модель формирования себестоимости и под каждый заказ (=Договор) у нас теперь заведена отдельная ГАУ. Попробовали вручную в карточке ГАУ указать срочность, при формировании ОСВ по XX счету этот реквизит игнорируется и все НЗП отражается как краткосрочное. При позаказном методе программа не воспринимает срочность, несмотря на то, что реквизит указан в карточке ГАУ? Уточните, пожалуйста.  {cid:imageXXX.jpg@XXDAXDXX.XCXXXXAX]   {cid:imageXXX.jpg@XXDAXDXX.XCXXXXAX]     {cid:imageXXX.jpg@XXDAXDXX.XCXXXXAX]  ', 'Добрый вечер. С введением в работу программы XС ЕРП X.X каким образом будет происходить закрытие бумажных документов ( интересует процесс передачи информации в ОЦО)  ', 'Добрый день Прошу откорректировать регистры по контрагенту Министертсво углеводородов( файлы во вложении) . В регистрах по документам большие суммы выходят в просрочку, по факту, по данным документам нет просрочки. ', 'Коллеги, добрый вечер. Направляю информацию по корректировкам использованного резерва по обременительным договорам и данные по использованию резерва для отражения в декабре.  Обращаю Ваше внимание, что в декабре - необходимо восстановить резерв по договорам XXXX/XXXX ТОМ-ДОМ ТДСК и БРС/XX/XXXXX-Д; - резерв по договорам  X/XX-XX-ДСП НИТИ Александрова и XXX/XXXX-Д Далур уже начислен в системе.   ', 'Коллеги, какой инструкцией пользоваться? Или подскажите, какие документы необходимо провести?  From: Кострова Ирина Владимировна <IrVKostrova@Greenatom.ru> Sent: Monday, January XX, XXXX X:XX PM To: Филина Инна Сергеевна <ISFilina@greenatom.ru>; Булгакова Мария Сергеевна <MaSBulgakova@rosatom.ru> Cc: Курочкина Анастасия Александровна <AnAKurochkina@Greenatom.ru>; Кокурошникова Анастасия Дмитриевна <ADKokuroshnikova@Greenatom.ru>; Взаимодействие с клиентами по БУНУ <DBUNU@Greenatom.ru> Subject: РХК_сч. XX.ГК.XX  Коллеги, добрый день.  Расхождение не ушло {cid:imageXXX.png@XXDAXXCF.XXDABCDX]    ', 'Добрый день!   В результате проведения проверки правильности отражения в бухгалтерском учете первичных документов, а именно ``Перемещение в эксплуатации XX от XX.XX.XX`` и ``Перемещение в эксплуатации XX от XX.XX.XX``, были выявлены расхождения . Оборотно-сальдовая ведомость по счету МЦ.XX за декабрь XXXXг. не сходится с Ведомостью ТМЦ и первичной документацией (накладная на перемещение), скрин во вложении.  Прошу пересмотреть проводки и пояснить расхождения. Спасибо!   ', 'коллеги информации в протоколе отклоненияй нужно проконсультировать по изменению исполнителя в сделке XXXXXX!PTUCXXXXXCCBECXXXEEXXEXFAXXXEXXXEXC файл Копия АО РАОС_сделки со статусом Доработка_XX.XX.XXXX-XX.XX.XXXX.xlsx По позиции выделенной желтым цветом , ответственное лицо Комарова Анна Александровна AAKomarova@rosatom.ru<mailto:AAKomarova@rosatom.ru>   Добрый день!  По позиции выделенной желтым цветом, ответственное лицо Комарова Анна Александровна AAKomarova@rosatom.ru<mailto:AAKomarova@rosatom.ru>  ', 'Добрый день.  Скажите, пожалуйста, как верно заполнить эту строчку в данном случае ?  {cid:imageXXX.png@XXDAXXCX.AEXXXCXX]  ', 'Добрый день!  XС ERP Росатом (Платформа: XС:Предприятие X.X (X.X.XX.XXXX)Конфигурация: XС:ERP. Управление холдингом (X.X.XX.X) )  Начисляем заработную плату по ОКР за январь XXXX. Статья расходов по счету XX.XX есть только  Расх.в.пользу. Работника по ТД: Осн.Зарплата_XX.XX_Принимаемые_Исследования. Нужна статья Расх.в.пользу. Работника по ТД: Осн.Зарплата_XX.XX_Принимаемые_Разработки. Есть такая или это не важно?  ----- ', 'Коллеги, добрый день! В связи с некорректной работой базы XС ERP X.X (множество недоработок, получение некомпетентных ответов от тех.поддержки) прошу: - перенести закрытие января XXXXг. ООО «Русатом Карго» до устранения недоработок базы; - назначить индивидуального специалиста-консультанта, разбирающегося в корректном отражении первичных документов в XС ERP X.X  (ПТУ, РТУ, акты, НДС).  Примеры служебных переписок по возникающим вопросам во вложении: - При проведении входящих первичных документов, состоящих из нескольких строк (например, МТС), проводится некорректная сумма НДС (в регламентированном учете). Тех.поддержка предлагает заводить отдельные ПТУ на каждую строку. Данный вариант не является решением проблемы, т.к. есть документы, состоящие из нескольких десятков строк. Сумма НДС по строкам и общая сумма НДС при проведении в регламентированном учете не соответствует заведенному документу и бумажному носителю. - Документы приобретения услуг и прочих активов и документы по аренде не предусматривают их создание на основании Заказа поставщику. Т.о. для оплаты кураторы заводят Заказ поставщику с несколькими десятками строк (например, по страховке ДМС Согаз), однако, документ Приобретения услуг и прочих активов на основании данного Заказа поставщику не формируется и предлагается потратить еще столько же времени на заведение более XX-ти строк. Также для проведения данного входящего документа необходимо создать XX карточек (ранее данную функцию выполняло ОЦО); - При создании сделок в ЕОСДО ранее была массовая загрузка штрих-кодов с документами (одним файлом). В XС ERP X.X требуется сканирование каждого документа (отдельно акт, счет-фактура).   ', 'Татьяна Викторовна, добрый день. По одному авансу проходят два документа (п/п) с разными датами погашения. Корректная дата погашения и проект отражены в п/п самого аванса (ААXX-XXXXXX), прошу удалить за ненадобностью исправительный документ (п/п ААXX-XXXXXX), который попадает в отчет сверки  ВГО и искажает информацию по просроченности.  ', 'Добрый день,Ирина В рамках соглашения по передаче договора нужно списать январем (XX.XX) XX счет по НГ «Проектный офис СМТК» нужно списать расходы на XX.XX аналогично декабрьским  Статья затрат  ООО ``Бранан Энвайромент`` Договор XXX/XXX-Д от XX.XX.XXXX  Консультационные услуги, прочие_XX  XX XXX XXX,XX  Мебель и предметы интерьера_XX  X,XX  Обязательное проф.обучение и повышение квалификации_XX  X,XX  ОО выпл.вознагражд.итог.раб.год (страх.взносы)_XX  XXX XXX,XX  ОО выпл.вознагражд.итог.раб.год (страхование от НС)_XX  X XXX,XX  ОО по выплате вознагражд.итог.раб.за год (сумма выплат)_XX  X XXX XXX,XX  ОО по оплате отпусков работников (страх.взносы)_XX  XX XXX,XX  ОО по оплате отпусков работников (страхование от НС)_XX  X XXX,XX  ОО по оплате отпусков работников (сумма выплат)_XX  XXX XXX,XX  Отчисления на страхование от несчастных случаев_XX  XX XXX,XX  Оценка и развитие персонала_XX (с XX.XX.XX)  X,XX  Пенсионный фонд_XX  XXX XXX,XX  Пособия по нетрудоспособности (X дня больничных)_XX  XXX,XX  Почтовые расходы и расходы на курьерскую доставку_XX  X,XX  Представительские расходы в пределах установленных норм при участии российских делегаций_XX  X,XX  Проведение семинаров и конференций, собраний, заседаний для предприятий отрасли_XX  X,XX  Проведение семинаров и конференций, собраний, заседаний_XX  X,XX  Программное и информационное обеспечение (лицензии) (сторонние организации)_XX    Проезд по зарубежным командировкам воздушным транспортом_XX  XXX,XX  Проезд по зарубежным командировкам железнодорожным транспортом_XX  X,XX  Проезд по зарубежным командировкам_XX  X,XX  Прочие затраты по зарубежным командировкам_XX  X,XX  Прочие командировочные по РФ_XX  XX,XX  Прочие командировочные по РФ, не принимаемые для НУ_XX  X,XX  Прочие материалы (покупные)_XX  X,XX  Прочие расходы на обязательное проф.обучение и повышение квалификации_XX  X,XX  Прочие услуги по охране труда и технике безопасности_XX  X,XX  Работы и услуги типографий_XX  X,XX  Работы и услуги типографий, не принимаемые для НУ_XX  X,XX  Расх.в.пользу.Работника по ТД: Доп.Зарплата_XX  XX XXX,XX  Расх.в.пользу.Работника по ТД: Осн.Зарплата_XX  X XXX XXX,XX  Расх.в.пользу.Работника по ТД: Расходы по КСП_XX  X XXX,XX  Расх.в.пользу.Работника по ТД: СоцРасх_XX  X,XX  Расходные материалы и комплектующие для оргтехники_XX  X,XX  Расходы на иные виды рекламы_XX  X,XX  Расходы на организацию и участие в маркетинговых мероприятиях (выставках, конференциях, форумах, семинарах)_XX  X,XX  Расходы на проезд (служебные поездки по РФ)_XX  X XXX,XX  Расходы на проезд по командировка в РФ, не принимаемые для НУ_XX  X,XX  Расходы на проезд по командировкам в РФ воздушным транспортом_XX  XX XXX,XX  Расходы на проезд по командировкам в РФ железнодорожным транспортом_XX  XX XXX,XX  Расходы на проезд по командировкам в РФ_XX  X XXX,XX  Расходы на проживание (служебные поездки по РФ)_XX  X,XX  Расходы на проживание в зарубежных командировках_XX  X,XX  Расходы на проживание в командировках по РФ_XX  XX XXX,XX  Расходы на проживание в командировках по РФ, не принимаемые для НУ_XX  X,XX  Расходы на участие в массовых и имиджевых мероприятиях (выставках, ярмарках, экспозициях, на оформление витрин)_XX  X,XX  Расходы по найму персонала_XX  X,XX  Сопровождение и поддержка программного обеспечения (в т.ч. Справочно-правовых систем)._XX    Страхование гражданской ответственности за причинение вреда третьим лицам_XX  X,XX  Сувенирная продукция, относящаяся к представительским расходам_XX  X,XX  Суточные (зарубежные служебные поездки)_XX  X,XX  Суточные (служебные поездки по РФ)_XX  X,XX  Суточные по зарубежным командировкам_XX  X,XX  Суточные по командировкам по РФ_XX  X XXX,XX  Услуги сотовой связи, кроме технологической_XX  X,XX  Фонд пенсионного и социального страхования_XX  XXX XXX,XX  ФСС_XX  X XXX,XX  ФФОМС_XX  XX XXX,XX    XX XXX XXX,XX    ', 'Добрый день! Ирина, прошу корректировкой привязать заказ клиента №X к РТУ №X   ', 'Коллеги, добрый день У аудиторов не было доступа к документу {cid:imageXXX.png@XXDAXXXA.CFDEXBDX] ', 'Коллеги, добрый день. Необходимо поставить проверку на документах, см. письмо ниже.     From: Романова Ульяна Владимировна <UVRomanova@Greenatom.ru> Sent: Thursday, February XX, XXXX X:XX PM To: Мачкинис Ирина Павловна <IPMachkinis@rosatom.ru> Subject: RE: ОДЦ УГР_IMXXXXXXXX (SDXXXXXXXX)_Удаление документов  С коллегой по рег отчетности посмотрели документы. Их необходимо проверить. Как и другие докмуенты, тогда они будут отражены в учете. Кто будет проверять эти докмуенты? ОЦО Медведева И.А, я так понимаю, только по с/с.  Т.е. кому-то надо написать о необходимости проставить проверку на докмуентах. Как пояснил коллега, удалить их не можем.  From: Мачкинис Ирина Павловна <IPMachkinis@rosatom.ru<mailto:IPMachkinis@rosatom.ru>> Sent: Thursday, February XX, XXXX X:XX PM To: Романова Ульяна Владимировна <UVRomanova@Greenatom.ru<mailto:UVRomanova@Greenatom.ru>> Subject: FW: ОДЦ УГР_IMXXXXXXXX (SDXXXXXXXX)_Удаление документов  Ульяна Владимировна, добрый день Нужен ответ.  В письме ниже я просила удалить корректировки по расчетам по налогам  From: Быкова Ксения Александровна <KABykova@Greenatom.ru<mailto:KABykova@Greenatom.ru>> Sent: Thursday, February XX, XXXX X:XX PM To: Мачкинис Ирина Павловна <IPMachkinis@rosatom.ru<mailto:IPMachkinis@rosatom.ru>> Cc: Григорьева Светлана Васильевна <SveVaGrigoryeva@Greenatom.ru<mailto:SveVaGrigoryeva@Greenatom.ru>>; Данилова Надежда Юрьевна <NYDanilova@Greenatom.ru<mailto:NYDanilova@Greenatom.ru>>; Васильева Анастасия Анатольевна <AnaAnVasilyeva@Greenatom.ru<mailto:AnaAnVasilyeva@Greenatom.ru>>; Титова Анастасия Александровна <AATitova@Greenatom.ru<mailto:AATitova@Greenatom.ru>>; Романова Ульяна Владимировна <UVRomanova@Greenatom.ru<mailto:UVRomanova@Greenatom.ru>> Subject: RE: ОДЦ УГР_IMXXXXXXXX (SDXXXXXXXX)_Удаление документов  Добрый день, Ирина Павловна.  Корректировки расчета по налогам являются техническими документами которые созданы для перехода на ЕНП. Движения по счетам учета в них, отсутствуют. После пометки на удаление указанных Вами документов в Регламенте закрытия января XXXXг не пройден шаг «Переход на единый налоговый счет». Для корректного проведения регламента закрытия, документы «Корректировки расчета по налогам» проведены и отражены в журнале документов регламентированного учета. Шаг регламентной операции «Переход на единый налоговый счет» пройден, документы, требующие проведения отсутствуют.  Прошу согласовать закрытие обращения.  В случае возникновения вопросов прошу сообщить дополнительно, при отсутствии обратной связи сегодня до XX-XX обращение будет закрыто.  {cid:imageXXX.png@XXDAXXXE.XXXXXDXX]{Ошибка]{cid:imageXXX.jpg@XXDAXXXE.XXXXXDXX]  {cid:imageXXX.jpg@XXDAXXXE.XXXXXDXX]  {cid:imageXXX.jpg@XXDAXXXE.XXXXXDXX] {cid:imageXXX.jpg@XXDAXXXE.XXXXXDXX]  {cid:imageXXX.png@XXDAXXXE.XXXXXDXX]{Не пройденный шаг отсутствует]{cid:imageXXX.jpg@XXDAXXXE.XXXXXDXX]   ', 'Коллеги, добрый день! Айса Анатольевна трубку не берет, мой рабочий день уже кончился, но я бы хотела уточнить. Договор у нас каждый индивидуальный, общего договора нет, признак «Общий» не ставится, а выбирается из списка все тех же договоров аренды. Мне нужно завести новый договор с названием «Общий» или выбирать тот же договор?    From: Жукова Марина Михайловна <MMZhukova@Greenatom.ru> Sent: Monday, March X, XXXX X:XX PM To: Скальская Евгения Александровна <EASkalskaya@rosatom.ru> Cc: Взаимодействие с клиентами по БУНУ <DBUNU@Greenatom.ru> Subject: FW: (SDXXXXXXXX) ОДЦ УГР, СБДС XXX    From: Менкеева Айса Анатольевна <AAMenkeeva@Greenatom.ru<mailto:AAMenkeeva@Greenatom.ru>> Sent: Monday, March X, XXXX XX:XX PM To: Жукова Марина Михайловна <MMZhukova@Greenatom.ru<mailto:MMZhukova@Greenatom.ru>> Subject: (SDXXXXXXXX) ОДЦ УГР, СБДС XXX  Добрый день. Для оплаты постоянной части аренды используется документ Списание безналичных ДС с видом Оплата арендодателю. На закладке Основное указываем – Общий договор аренды(в карточке договора аренды реквизит «Общий договор аренды» не заполнен). На закладке Расшифровка платежа – Детальные договоры аренды(в наименовании через слеш / название объекта аренды, а также в карточке договора реквизиты «Общий договор аренды» и «Объект аренды» заполнены).  ', 'Коллеги, добрый день!  Просим включить в список по оформлению первичных учетных документов на бумажных носителях без применения признака ЭДО - склады ОП Предприятия :  -ОП АГБ- Склад Автохозяйство Архангельск- МОЛ Одинцов В.А.  -Западная Арктика ОП СМГ (Сабетта)- склад СУДС - МОЛ Углов М.В.  -Центральная Арктика (Тиксинская гидробаза)- Основной склад Тикси-Байдерина А.И.  -Хатангский лоцмейстерский отряд ОП-склады- МОЛ Бойко А.В.  -ЭИС- склад ЭИС- Котиков И.М.    ', 'Екатерина Ивановна, добрый день!  Нашла ошибку в заказе на производство №XXXX-XXXXXX от XX.XX.XX - неверно выбрана аналитика ``Оценочные обязательства по гарантийным обязательствам XXXX (XXXX_Департамент_Брехов НР)``, там д.б. ``Оценочные обязательства по гарантийным обязательствам XXXX (XXXX_Депертамент_Брехов НР)``. Прошу подсказать, как сейчас это можно исправить и перенести затраты февраля на корректную аналитику? Могу я исправить сейчас аналитику в заказе?  Так же на XX счете задвоилось начисление резервов в январе XXXX, которые были начислены в декабре XXXX. Адресовала вопрос УПО.  --  ', 'Гусак В.: необходимо проконсультировать пользователя по исправлению ошибки в Заказе на производство ////////////////////////////////////////////////// Екатерина Ивановна, добрый день!  Нашла ошибку в заказе на производство №XXXX-XXXXXX от XX.XX.XX - неверно выбрана аналитика ``Оценочные обязательства по гарантийным обязательствам XXXX (XXXX_Департамент_Брехов НР)``, там д.б. ``Оценочные обязательства по гарантийным обязательствам XXXX (XXXX_Депертамент_Брехов НР)``. Прошу подсказать, как сейчас это можно исправить и перенести затраты февраля на корректную аналитику? Могу я исправить сейчас аналитику в заказе?  Так же на XX счете задвоилось начисление резервов в январе XXXX, которые были начислены в декабре XXXX. Адресовала вопрос УПО.  --  ', 'Филонова А.Д Добрый день, можно ли изменить объект учета резерва на XX сч. без пересчета Себестоимости, документ начисление и списание резервов. ////////////////////////////////////////////////// Екатерина Ивановна, добрый день!  Нашла ошибку в заказе на производство №XXXX-XXXXXX от XX.XX.XX - неверно выбрана аналитика ``Оценочные обязательства по гарантийным обязательствам XXXX (XXXX_Департамент_Брехов НР)``, там д.б. ``Оценочные обязательства по гарантийным обязательствам XXXX (XXXX_Депертамент_Брехов НР)``. Прошу подсказать, как сейчас это можно исправить и перенести затраты февраля на корректную аналитику? Могу я исправить сейчас аналитику в заказе?  Так же на XX счете задвоилось начисление резервов в январе XXXX, которые были начислены в декабре XXXX. Адресовала вопрос УПО.  --  ', 'Екатерина Ивановна, добрый день! Прошу ответить по обращению SDXXXXXXXX. Прикрепленное письмо у меня не открылось.  --  ', 'Добрый день! При формировании Акта сверки взаимных расчетов хозрасчетный, в акт сверки вошел Счет XX «Резервы по сомнительным долгам»(скрин слева) Счет XX не участвует в акте сверки. При формировании Акта сверки взаимных расчетов (не хозрасчетный, скрин слева), не отражается сальдо по дог. XXXX по Дебету счета, акт формируется неверно. X.       Необходимо сформировать Акт сверки без учета сч. XX. X.       Необходимо, чтобы в акте сверки формировались итоги по каждому договору по Дебету и Кредиту и конечное сальдо по каждому договору. {cid:imageXXX.jpg@XXDAXAEX.XXXXXAXX] {cid:imageXXX.jpg@XXDAXAEX.XXXXXAXX] ', 'Просьба принять в работу Вопрос - почему на группу продукции Резервы предстоящих расходов распределяется зарплата (XX счет) _______________________________________________ Екатерина Ивановна, добрый день! Прошу ответить по обращению SDXXXXXXXX. Прикрепленное письмо у меня не открылось.  --  ', 'Коллеги, добрый день! Подскажите кто должен в ОЦО провести документ ниже? {cid:imageXXX.png@XXDAXBXE.BXBXDXXX]  {cid:imageXXX.png@XXDAXBXE.CXCXEXDX]   ', 'Добрый день! Работаем в системе ERP X.X Документы заведены и проведены согласно инструкции по отражению документов по санаторно-курортному лечению, но сальдо получилось развернутое по слоям НУ по счетуXX.XX. В какой момент сальдо будет сворачиваться и надо ли предприятию ещё, что-то сделать?   {cid:imageXXX.jpg@XXDAXCXC.BAXXXXAX]  ', 'Ирина Николаевна, посмотрите, пожалуйста, вижу появилась связь, проверьте, пожалуйста, ПТУ. Спасибо!  From: Филиппова Ирина Николаевна Sent: Wednesday, March XX, XXXX X:XX AM To: Беляева Инна Васильевна <IVaBelyaeva@rbm-armz.ru> Cc: Взаимодействие с клиентами по БУНУ <DBUNU@Greenatom.ru> Subject: RE: XС ПТУ XXXX  Инна Васильевна, добрый день. По ПТУ XXXX сделка в ЕОСДО не поступала. Причина – Ошибка передачи данных, предположительно проблема с договором. При необходимости просьба обратиться на тех. поддержку.  {cid:imageXXX.jpg@XXDAXXXF.XXXEXXEX]   {cid:imageXXX.png@XXDXXXXX.XXXXEBXX]  ', 'Добрый день, коллеги.  По письму ниже  Ольга Николаевна писала, что: В документах по заработной плате будут автоматически подбираться непринимаемые статьи.  После расчета з/п обнаружено, что статьи с принимаемых на непринимаемые не «подобрались».  Направляю скриншот            Прошу внести исправления  в систему, согласно Вашей рекомендации.      ___________    ', 'Добрый день. Прошу изменить менеджера ПТУ XXXX-XXXXXX на автора документа - Бикаеву П.Б. Не имею отношения к сделке, которая на доработке с прошлого года.  {cid:fXfbfbXXXXXaXbaXXbbbfXdXfXXXdeXXfXceeXXX.camel@rosatom.ru-X]  -- ', 'XС ERP X.X: Цифровой Росатом -- Добрый день. Коллеги, для исполнения поручений АО ``Росэнергоатом``, прошу вас обеспечить формирование в XС ERP X.X: Цифровой Росатом акта сверки по давальческим материалам по образцу (во вложении). Необходимо предусмотреть формирование акта сверки как в подробном формате (приложение №X Акт сверки КолаАЭС), так и в кратком формате (Акт сверки ЛАЭС) . Прошу вас сообщить какой из приложенных вариантов возможно внедрить в программу в максимально короткие сроки - до XX.XX.XXXXг. Спасибо. ', 'Контакты для связи: XXXXXXXXXXX Добрый день. Просьба предоставить информацию в рамках аудита процедур управления лицензиями, заполнить опросный файл по лицензиям (во вложении).', 'X смежных инцидента на ОЦО ------------- Ирина, добрый день,  В продолжении телефонного звонка, сообщаю следующее. ГСПИ в XXXX году получены две лицензии на разработку месторождений строительного камня и песчано-гравийной смеси. Строительный камень будет использоваться как камень, так и перерабатываться в щебень разной фракции. В основном камень и щебень будут использоваться на возведение дорог по проекту строительства АСММ (атомной станции малой мощности), но будет и частичная продажа готовой продукции (камень, щебень) на сторону. В марте XXXX года приступили к разработке карьера, первый камень будет оприходован в апреле. Мы понимаем, что за март нам нужно сдать нулевую декларацию по НДПИ. Поскольку мы начинаем процесс с чистого листа нам необходимо получить механизмы по работе с готовой продукцией (счет XX), существующие в XС. Попробуем подстроиться под то, что есть, насколько получится. Нам необходимо понимать каким образом построен учет стоимости готовой продукции, технологических потерь в пределах нормы и сверхнорм, процесс реализации. Можем ли мы создавать документы на реализацию без проведения, не оприходовав добытое сырье?  Все получатели письма от ГСПИ – обязательные участники, участников со стороны ОЦЛ и проектной команды прошу определить самостоятельно. Пока требуется первое ознакомительное общее совещание, дальше – по потребности.  Совещание желательно провести сегодня до XX часов или завтра, как можно раньше.  ', 'Добрый день, уважаемые коллеги.  Просим Вас пояснить причину отсутствия доступа к Регистрам налогового учета с аббревиатурой (ГА) в XС ERP X.X Цифровой Росатом. Права  в XС ERP предоставлены аналогичные Залозной Е.Е.  Просим Вас предоставить доступ к Регистрам налогового учета Муравьевой Е.Г. и Потоцкой С.Р., так как непосредственный функционал требует  просмотра данных регистров.  -- ', 'Обоснование высокой срочности: Срочные операции (закрытие отчетного периода, расчет заработной платы, подготовка налоговой отчетности) ------------------------------ Коллеги, добрый день. В XС образовалась просроченная задолженность, прошу зачесть суммы авансов в РТУ. Во вложении файл по Заказчиками, в колонке Комментарии указаны суммы и РТУ.  Просьба клонировать обращение на группу Анатолия Евича.', 'Добрый день! В системе XС ERP X:X были созданы документы Движение продукции и материалов, Передача материалов в кладовую XX, XX, XX, по которым в производство было передано порошка:  X.       ТО.XXX - Порошок металлический ПР-XXХXXНXXТ-XX/XX, XX кг по X XXX,XX  X.       ТО.XXX - Порошок металлический ПР-XXХXXНXXТ-XX/XX, XX кг по X XXX,XX  X.       ТО.XXX БЭРН - Порошок металлический XXХXXНXXТ ДОX, XXX кг по X XXX,XX Из производства был возвращен порошок  X.       ТО.XXX - Порошок металлический ПР-XXХXXНXXТ-XX/XX ДОX, XX кг по X XXX,XX  X.       ТО.XXX - Порошок металлический ПР-XXХXXНXXТ-XX/XX ДОX, XX,X кг по X XXX,XX  X.       ТО.XXX БЭРН - Порошок металлический XXХXXНXXТ ДОX, XXX,X кг по X XXX,XX  Что не соответствует расчету остаточной стоимости. Прошу уточнить каким образом необходимо изменить стоимости сырья из производства     ', 'Добрый день, Татьяна Викторовна. Уведомляем вас  о недоступности сотрудникам ГСПИ  системы XС ERP X.X в течение XX мая XXXX. Нет возможности отражать документы за апрель XXXX. В связи с этим прошу скорректировать график закрытия и продлить ввод документов до конца рабочего дня XX.XX.XXXX ', 'переписку в инцидент вложили после того, как ОЦО вернули обращение в тех.поддержку ------------------ Техническая информация: Имя информационной базы: АО «Управление административными зданиями» (prod_erpX_uaz_XXXX) Объект метаданных: Прочие расходы (Справочник) Представление объекта: Услуги по оценке активов и обязательств (для иных целей) Навигационная ссылка: eXcib/data/Справочник.ПрочиеРасходы?ref=XXbXfaXXXeXXXXXbXXeeXXXfXcXaXXXX -------------------------------------------------------- Описание:              в пту требуется заполнить аналитику - похожей статьи нет в справочнике что делать? срочно! -------------------------------------------------------- Сервер: XeXc-s-XcXXnX.gk.rosatom.local Пользователь: Лебеденко Галина Павловна Навигационная ссылка (внешняя ПРОДУКТИВ): eXc://server/XeXc-s-XcXXnX.gk.rosatom.local/prod_erpX_uaz_XXXX#eXcib/data/Справочник.ПрочиеРасходы?ref=XXbXfaXXXeXXXXXbXXeeXXXfXcXaXXXX', 'Клон обращения.    Коллеги, добрый день! При анализе налоговых регистров  по видам расходов по слою « учета Прямых расходов реализованной продукции в текущем периоде» некорректно отражаются затраты для расчета налога на прибыль за текущей период. В регистр попадают виды расходов с пустым значением и с отрицательными суммами, что влияет на итоговую сумму по РНУ «Прямые расходы реализованной продукции, услуг в текущем периоде». Отрицательные суммы значительно уменьшили показатель  «Расходы, уменьшающие сумму доходов от реализации» по листу XX «Расчет налога» по НД за X квартал XXXX. Искажение  сумм прямых расходов  привело к неправильному исчислению налога, т.к. на основании РНУ формируется НД по налогу на прибыль.  С XXXX года Атомтехэнерго  перешло на Налоговый мониторинг. При выгрузке в ВДНМ данные по  Регистрам НУ и НД по налогу на прибыль за                   X квартал XXXX будет не соответствовать.  Просим Вас привести в соответствие РНУ и НД по налогу на прибыль за X квартал XXXX и  корректно рассчитать налог.  ', 'Добрый день, коллеги. Прошу взять в работу. Информация о регистрации нового устава будет направлена дополнительно. ************ Коллеги, добрый день!  Информирую, что в ближайшее время (детали во вложении) состоится переименование АО «Атомредметзолото». Прошу учесть в работе и сообщить, что требуется от нас как Заказчика услуг БУ НУ в связи с предстоящим переименованием.  ']\n"
     ]
    }
   ],
   "source": [
    "print(data[\"Описание\"].values.tolist())"
   ]
  },
  {
   "cell_type": "markdown",
   "metadata": {},
   "source": [
    "# векторная бд"
   ]
  },
  {
   "cell_type": "code",
   "execution_count": null,
   "metadata": {},
   "outputs": [],
   "source": [
    "from pymilvus import MilvusClient\n",
    "\n",
    "client = MilvusClient(\"http://docker.home:12532\")"
   ]
  },
  {
   "cell_type": "code",
   "execution_count": 27,
   "metadata": {},
   "outputs": [
    {
     "data": {
      "text/plain": [
       "['demo_collection', 'guides', 'guides_collection']"
      ]
     },
     "execution_count": 27,
     "metadata": {},
     "output_type": "execute_result"
    }
   ],
   "source": [
    "client.list_collections()"
   ]
  },
  {
   "cell_type": "code",
   "execution_count": 156,
   "metadata": {},
   "outputs": [],
   "source": [
    "client.drop_collection(\"demo_collection\")\n",
    "client.create_collection(\n",
    "    collection_name=\"demo_collection\",\n",
    "    dimension=1024,  # The vectors we will use in this demo has 768 dimensions\n",
    ")"
   ]
  },
  {
   "cell_type": "code",
   "execution_count": 157,
   "metadata": {},
   "outputs": [
    {
     "name": "stdout",
     "output_type": "stream",
     "text": [
      "{'insert_count': 70, 'ids': [18600, 18601, 18602, 18603, 18604, 18605, 18606, 18607, 18608, 18609, 18610, 18611, 18612, 18613, 18614, 18615, 18616, 18617, 18618, 18619, 18620, 18621, 18622, 18623, 18624, 18625, 18626, 18627, 18628, 18629, 18630, 18631, 18632, 18633, 18634, 18635, 18636, 18637, 18638, 18639, 18640, 18641, 18642, 18643, 18644, 18645, 18646, 18647, 18648, 18649, 18650, 18651, 18652, 18653, 18654, 18655, 18656, 18657, 18658, 18659, 18660, 18661, 18662, 18663, 18664, 18665, 18666, 18667, 18668, 18669]}\n"
     ]
    }
   ],
   "source": [
    "for i in range(0, len(data), 100):\n",
    "    res = client.insert(collection_name=\"demo_collection\", data=data[i:i+100])\n",
    "\n",
    "print(res)"
   ]
  },
  {
   "cell_type": "markdown",
   "metadata": {},
   "source": [
    "# инференс"
   ]
  },
  {
   "cell_type": "code",
   "execution_count": 236,
   "metadata": {},
   "outputs": [],
   "source": [
    "def get_answers(query):\n",
    "    query_vectors = embedding_fn.encode_queries([query])\n",
    "    # If you don't have the embedding function you can use a fake vector to finish the demo:\n",
    "    # query_vectors = [ [ random.uniform(-1, 1) for _ in range(768) ] ]\n",
    "\n",
    "    res = client.search(\n",
    "        collection_name=\"demo_collection\",  # target collection\n",
    "        data=query_vectors,  # query vectors\n",
    "        limit=15,  # number of returned entities\n",
    "        output_fields=[\"text\", \"answer\"],  # specifies fields to be returned\n",
    "    )\n",
    "\n",
    "    print(\"\\n\".join(map(lambda x: f\"{x['distance']}: {x['entity']['answer']}\", res[0])))\n",
    "    answers = list(map(lambda x: x['entity']['answer'], res[0]))\n",
    "    return answers"
   ]
  },
  {
   "cell_type": "code",
   "execution_count": 237,
   "metadata": {},
   "outputs": [
    {
     "name": "stdout",
     "output_type": "stream",
     "text": [
      "0.6708204746246338:  направлено письмо на эл почту документ от контрагента получен в формате который не утвержден фнс обращаем ваше внимание что в типовой форме соглашения об электронном документообороте приложение n xx к приказу госкорпорации росатом от xx июня г n п предусмотрены только форматы утвержденные фнс x организация x и организация x подтверждают взаимное согласие на выставление и получение следующих электронных документов счетовфактур корректировочных счетовфактур документов об отгрузке товаров выполнении работ оказании услуг передаче имущественных прав в том числе включающих в себя счетфактуру корректировочный счетфактуру составленных в электронной форме по форматам утвержденным действующими приказами фнс россии за исключением электронных документов составленных по форматам утвержденным приказами фнс россии от n ммв и n ммв исходя из этого документ полученный от контрагента не удовлетворяет условиям соглашения обработать такой документ в системе 1с erp нет возможности в данном случае необходимо проводить работу с контрагентом по получению документов в формате утвержденном приказом фнс рф от n ммв поставщик аннулировал электронный документ для перехода на бумажный документооборот в таком случае порядок действий следующий x необходимо обратиться в оцо для снятия признака проверки установленный признак блокирует любую корректировку документа сотрудник оцо по документу голицына виктория алексеевна x снять с пту признак эдо провести документ x при необходимости добавить файлы x направить документ пту на согласование аннулировать сделку не нужно если аннулировать сделку то по текущему документу сформировать новую не получится сделка сейчас на доработке после запуска согласования по документу и перехода на этап согласования оцо она будет направлена на проверку обращение закрыто по согласованию с пользователем если у вас возникнут дополнительные вопросы прошу направить новое обращение на \n",
      "0.6087560057640076:  а в договоре д в системе еосдо был указан контрагент с gid пао ростелеком полное публичное акционерное общество междугородной и международной электрической связи ростелеком его необходимо изменить там на контрагента с gid пао ростелеком полное наименование публичное акционерное общество ростелеком консультация по замене контрагента в системе еосдо оказана смежной рабочей группой документ приобретение товаров и услуг аа от xxxxxx проверен оцо xxxxxx сделка сд в статусе закрыт документ приобретение товаров и услуг аа от xxxxxx успешно подписан и утвержден просьба при возникновении вопросов направить новое обращение \n",
      "0.6068587899208069:  из системы можно распечататься только типовую форму нмаx утвержденную постановлением госкомстата чтобы ее распечатать необходимо перейти в карточку нма нажать печать карточка учета нма нмаx на текущий момент это единственная форма которая существует в системе по принятию к учету нма обращаю внимание рекомендую обратиться к специалистам оцо по учету нма и уточнить принимают ли они форму нмаx по типовой форме если нет то запросить у них шаблон формы которые должен быть шаблон необходимо будет заполнить вне системы и приложить в сделку еосдо если да то печатать типовую форму из системы как описала выше \n",
      "0.6068587899208069:  поскольку документ пуипа утвержден основной электронный документ подписан привязывать новый электронный документ требующий подписания к нему нельзя в документе стоит признак дополнить сделку файлами после подписи сделка находится на доработке поэтому есть два варианта x запросить у контрагента бумажный акт создать на основании пуипа документ добавление документов к сделке вложить в созданный документ подписанный бумажный акт установить в документе признак закрыть сделку и направить его на согласование x получить от контрагента электронный документ с другим расширением файла сейчас получен неформализованный документ с расширением такой формат обработать в системе 1с erp xx нельзя необходимо запросить неформализованный документ с расширением в таком случае на основании пуипа можно создать документ прочие энд юз эдо в обработке контур эдо сопоставить созданный системный документ с электронным неформализованный документ с расширением pdf направить прочие энд юз эдо на согласование для последующего подписания просьба при возникновении вопросов направить новое обращение закрытие обращения подтверждено письмом \n",
      "0.5979083180427551:  а по умолчанию в контур диадок у пользователя вотяков александр анатольевич установлен укэп фл с серийным номером мчд привязана возможно авторизация в 1с выполняется не под тем логином у подписанта их x в 1с нужно авторизоваться с логином диадок к данному логину привязаны укэп фл и мчд закрытие обращения подтверждено письмом просьба при возникновении вопросов направить новое обращение \n",
      "0.5915748476982117:  в заказе поставщику вы указаны менеджером заказ был отклонён исполнителем для внесения изменений поэтому вам пришло оповещение\n",
      "0.586786687374115:  код договора заполняется при записи по следующему алгоритму если договорконтрагента dk договоркредитовидепозитов dd договораренды dl договормеждуорганизациями do если ничего из этого то пустой префикс префикс сп присваивался для договоров которые мигрировали с упп\n",
      "0.5867352485656738:  доступ предоставлен при возникновении вопросов по входуправам в базу просьба создать новое обращение либо написать на почту \n",
      "0.5853678584098816:  ч по обращению для редактирования утвержденной карточки номенклатуры необходимо выполнить следующие действия x снять с согласования номенклатуру для этого нужно нажать кнопку согласование отменить согласование указать причину отмены x перезайти в карточку и проставить нужный гид карточку записать x отправить карточку номенклатуры на согласование и утвердить для дальнейшего использования в документах пожалуйста попробуйте\n",
      "0.5841469764709473:  документ списание из эксплуатации от проведено пользователем закрытие обращения согласовано при возникновении вопросов просьба создать новое обращение на \n",
      "0.5804257392883301:  а ошибка подписания была связана с тем что документ приобретение товаров и услуг от xxxxxx был подписан ранее в xxxxx и привязан к двум разным пакетам кондаковой ос выполнена отвязка документ приобретение товаров и услуг от xxxxxx с нашей стороны документ утвержден технически просьба при возникновении вопросов направить новое обращение закрытие обращения подтверждено письмом \n",
      "0.5768722891807556:  уважаемый алибек лемаевич проведена консультация по телефону для создания плана заявок с выбором в табличной части номенклатуры с типом товар необходимо идентифицировать номенклатуру в системе еос нси если позиция есть в 1с erp ей нужно присвоить gid соответствующий данной позиции в еос нси если номенклатура новая ее необходимо выгрузить из еос нси далее в 1с erp xx нужно дозаполнить данные в карточке номенклатуры и согласовать ее после того как карточка номенклатура будет проведена и утверждена необходимо создать заказ на внутреннее потребление блок закупки документы закупки все в заказе на внутреннее потребление нужно указать подразделениесклад если нужно направление деятельности действие в табличной части для позиции указать к обеспечению документ провести данный документ будет служить как назначение для закупаемой номенклатуры в плане закупок и всех последующих документах поступления закрытие согласовано \n",
      "0.5762788653373718:  оказана консультация по выгрузке спп элемента в систему иасуп\n",
      "0.5713959336280823:  а при создании отчета комитенту о закупках доработана команда заполнить заполнить по приобретению после этого данные в табличной части заполнятся на основании данных из табличной части документа пту содержание встает после проведения документа отчет комитенту принципалу о закупках\n",
      "0.5674595236778259:  скорректирован маршрут согласования заявок на внутреннее потребления для склада склад ниокр разрешать расход тмц с этих складов может любой из списка сидоров горшенин документ необходимо заново направить на согласование при возникновении вопросов просьба создать новое обращение спасибо \n"
     ]
    }
   ],
   "source": [
    "query = \"Как добавить номенклатуру?\"\n",
    "answers = get_answers(\"query\")"
   ]
  },
  {
   "cell_type": "code",
   "execution_count": 238,
   "metadata": {},
   "outputs": [],
   "source": [
    "from pymilvus import model\n",
    "bge_rf = model.reranker.BGERerankFunction(\n",
    "    model_name=\"BAAI/bge-reranker-v2-m3\",  # Specify the model name. Defaults to `BAAI/bge-reranker-v2-m3`.\n",
    "    device=\"cpu\" # Specify the device to use, e.g., 'cpu' or 'cuda:0'\n",
    ")\n",
    "\n",
    "def rerank(query, answers):\n",
    "    rank = bge_rf(query, answers)\n",
    "    ranked_answers = list(map(lambda x: f\"{round(x.score*1000)/10}%: {x.text}\", [x for x in rank if x.score >= 0.005]))\n",
    "    return ranked_answers"
   ]
  },
  {
   "cell_type": "code",
   "execution_count": 239,
   "metadata": {},
   "outputs": [
    {
     "name": "stdout",
     "output_type": "stream",
     "text": [
      "6.0%:  уважаемый алибек лемаевич проведена консультация по телефону для создания плана заявок с выбором в табличной части номенклатуры с типом товар необходимо идентифицировать номенклатуру в системе еос нси если позиция есть в 1с erp ей нужно присвоить gid соответствующий данной позиции в еос нси если номенклатура новая ее необходимо выгрузить из еос нси далее в 1с erp xx нужно дозаполнить данные в карточке номенклатуры и согласовать ее после того как карточка номенклатура будет проведена и утверждена необходимо создать заказ на внутреннее потребление блок закупки документы закупки все в заказе на внутреннее потребление нужно указать подразделениесклад если нужно направление деятельности действие в табличной части для позиции указать к обеспечению документ провести данный документ будет служить как назначение для закупаемой номенклатуры в плане закупок и всех последующих документах поступления закрытие согласовано \n",
      "3.9%:  ч по обращению для редактирования утвержденной карточки номенклатуры необходимо выполнить следующие действия x снять с согласования номенклатуру для этого нужно нажать кнопку согласование отменить согласование указать причину отмены x перезайти в карточку и проставить нужный гид карточку записать x отправить карточку номенклатуры на согласование и утвердить для дальнейшего использования в документах пожалуйста попробуйте\n"
     ]
    }
   ],
   "source": [
    "ranked_answers = rerank(query, answers)\n",
    "print(\"\\n\".join(ranked_answers))"
   ]
  }
 ],
 "metadata": {
  "kernelspec": {
   "display_name": "Python 3",
   "language": "python",
   "name": "python3"
  },
  "language_info": {
   "codemirror_mode": {
    "name": "ipython",
    "version": 3
   },
   "file_extension": ".py",
   "mimetype": "text/x-python",
   "name": "python",
   "nbconvert_exporter": "python",
   "pygments_lexer": "ipython3",
   "version": "3.12.0"
  }
 },
 "nbformat": 4,
 "nbformat_minor": 2
}
